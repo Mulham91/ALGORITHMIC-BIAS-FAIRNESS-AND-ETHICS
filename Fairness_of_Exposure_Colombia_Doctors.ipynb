{
 "cells": [
  {
   "cell_type": "code",
   "execution_count": 12,
   "metadata": {
    "collapsed": true
   },
   "outputs": [],
   "source": [
    "from fairsearchcore.models import FairScoreDoc\n",
    "import math\n",
    "import sys\n",
    "import warnings\n",
    "warnings.filterwarnings(\"ignore\")\n",
    "import fairsearchcore as fsc\n",
    "import sys\n",
    "import numpy as np\n",
    "import pandas as pd"
   ]
  },
  {
   "cell_type": "code",
   "execution_count": 6,
   "metadata": {
    "collapsed": true
   },
   "outputs": [],
   "source": [
    "%store -r df_u2\n",
    "%store -r f_queries_co\n",
    "%store -r intersection\n",
    "%store -r f_queries_co\n",
    "%store -r queries_es\n",
    "%store -r queries_mx\n",
    "%store -r df_u2es\n",
    "%store -r df_u2mx\n",
    "df_u2sp=df_u2es\n",
    "queries_sp=queries_es"
   ]
  },
  {
   "cell_type": "code",
   "execution_count": 7,
   "metadata": {
    "collapsed": true
   },
   "outputs": [],
   "source": [
    "#colombia\n",
    "#df_u2_sex_filtered=df_u2\n",
    "df_u2_sex_filtered = df_u2[(df_u2['gender']!=None) & (df_u2['gender']!='unknown')]\n",
    "df_u2_age_filtered = df_u2[df_u2.age.notnull() & df_u2.age.dropna()]\n",
    "df_u2_nationality_filtered = df_u2[df_u2.Is_foreigner.notnull() & (df_u2['Is_foreigner']!='unknown') & (df_u2['Is_foreigner']!='tooshort')]\n",
    "df_u2_star_filtered = df_u2[(df_u2['num_stars']!=None) & (df_u2['num_stars']!='unknown')]\n",
    "df_u2_reviews_filtered = df_u2[(df_u2['num_reviews']!=None) & (df_u2['num_reviews']!='unknown')]\n",
    "#spain\n",
    "#df_u2_sex_filtered=df_u2\n",
    "df_u2_sex_filtered_sp = df_u2sp[(df_u2sp['gender']!=None) & (df_u2sp['gender']!='unknown')]\n",
    "df_u2_age_filtered_sp = df_u2sp[df_u2sp.age.notnull() & df_u2sp.age.dropna()]\n",
    "df_u2_nationality_filtered_sp = df_u2sp[df_u2sp.Is_foreigner.notnull() & (df_u2sp['Is_foreigner']!='unknown') & (df_u2sp['Is_foreigner']!='tooshort')]\n",
    "df_u2_star_filtered_sp = df_u2sp[(df_u2sp['num_stars']!=None) & (df_u2sp['num_stars']!='unknown')]\n",
    "df_u2_reviews_filtered_sp = df_u2sp[(df_u2sp['num_reviews']!=None) & (df_u2sp['num_reviews']!='unknown')]\n",
    "#Maxican\n",
    "#df_u2_sex_filtered=df_u2\n",
    "df_u2_sex_filtered_max = df_u2mx[(df_u2mx['gender']!=None) & (df_u2mx['gender']!='unknown')]\n",
    "df_u2_age_filtered_max = df_u2mx[df_u2mx.age.notnull() & df_u2mx.age.dropna()]\n",
    "df_u2_nationality_filtered_max = df_u2mx[df_u2mx.Is_foreigner.notnull() & (df_u2mx['Is_foreigner']!='unknown') & (df_u2mx['Is_foreigner']!='tooshort')]\n",
    "df_u2_star_filtered_max = df_u2mx[(df_u2mx['num_stars']!=None) & (df_u2mx['num_stars']!='unknown')]\n",
    "df_u2_reviews_filtered_max= df_u2mx[(df_u2mx['num_reviews']!=None) & (df_u2mx['num_reviews']!='unknown')]\n"
   ]
  },
  {
   "cell_type": "code",
   "execution_count": 8,
   "metadata": {
    "collapsed": true
   },
   "outputs": [
    {
     "name": "stdout",
     "output_type": "stream",
     "text": [
      "angiologia y cirugia vascular\n",
      "count_famel 0\n",
      "count_male 20\n",
      "med_male 1.5\n",
      "med_famel 0\n",
      "diff_avg_relevance 1.5\n",
      "cardiologia adultos\n",
      "count_famel 2\n",
      "count_male 18\n",
      "med_male 2.17\n",
      "med_famel 0.0\n",
      "diff_avg_relevance 2.17\n",
      "cirugia general\n",
      "count_famel 1\n",
      "count_male 19\n",
      "med_male 2.63\n",
      "med_famel 5.0\n",
      "diff_avg_relevance 2.37\n",
      "cirugia oral y maxilofacial\n",
      "count_famel 4\n",
      "count_male 16\n",
      "med_male 0.94\n",
      "med_famel 1.25\n",
      "diff_avg_relevance 0.31\n",
      "cirugia plastica estetica y reparadora\n",
      "count_famel 4\n",
      "count_male 16\n",
      "med_male 2.19\n",
      "med_famel 1.25\n",
      "diff_avg_relevance 0.94\n",
      "dermatologia\n",
      "count_famel 16\n",
      "count_male 4\n",
      "med_male 2.5\n",
      "med_famel 3.94\n",
      "diff_avg_relevance 1.44\n",
      "endocrinologia\n",
      "count_famel 6\n",
      "count_male 14\n",
      "med_male 2.0\n",
      "med_famel 0.83\n",
      "diff_avg_relevance 1.17\n",
      "gastroenterologia especialidad\n",
      "count_famel 6\n",
      "count_male 14\n",
      "med_male 3.07\n",
      "med_famel 3.0\n",
      "diff_avg_relevance 0.07\n",
      "ginecologia y obstetricia\n",
      "count_famel 5\n",
      "count_male 15\n",
      "med_male 3.67\n",
      "med_famel 2.8\n",
      "diff_avg_relevance 0.87\n",
      "medicina estetica\n",
      "count_famel 14\n",
      "count_male 6\n",
      "med_male 1.17\n",
      "med_famel 2.14\n",
      "diff_avg_relevance 0.97\n",
      "neurocirugia\n",
      "count_famel 1\n",
      "count_male 19\n",
      "med_male 1.32\n",
      "med_famel 5.0\n",
      "diff_avg_relevance 3.68\n",
      "odontologia y estomatologia\n",
      "count_famel 11\n",
      "count_male 9\n",
      "med_male 2.22\n",
      "med_famel 2.27\n",
      "diff_avg_relevance 0.05\n",
      "oftalmologia\n",
      "count_famel 7\n",
      "count_male 13\n",
      "med_male 3.77\n",
      "med_famel 2.71\n",
      "diff_avg_relevance 1.06\n",
      "otorrinolaringologia\n",
      "count_famel 6\n",
      "count_male 14\n",
      "med_male 3.14\n",
      "med_famel 0.83\n",
      "diff_avg_relevance 2.31\n",
      "pediatria\n",
      "count_famel 10\n",
      "count_male 10\n",
      "med_male 2.5\n",
      "med_famel 1.4\n",
      "diff_avg_relevance 1.1\n",
      "psicologia\n",
      "count_famel 15\n",
      "count_male 5\n",
      "med_male 3.0\n",
      "med_famel 1.93\n",
      "diff_avg_relevance 1.07\n",
      "psiquiatria\n",
      "count_famel 9\n",
      "count_male 11\n",
      "med_male 1.82\n",
      "med_famel 1.56\n",
      "diff_avg_relevance 0.26\n",
      "reumatologia\n",
      "count_famel 7\n",
      "count_male 13\n",
      "med_male 1.92\n",
      "med_famel 0.71\n",
      "diff_avg_relevance 1.21\n",
      "traumatologia y ortopedia\n",
      "count_famel 2\n",
      "count_male 18\n",
      "med_male 3.44\n",
      "med_famel 4.5\n",
      "diff_avg_relevance 1.06\n",
      "urologia\n",
      "count_famel 0\n",
      "count_male 20\n",
      "med_male 4.35\n",
      "med_famel 4.5\n",
      "diff_avg_relevance 0.15\n"
     ]
    }
   ],
   "source": [
    "med_famel=0\n",
    "med_male=0\n",
    "\n",
    "famel_num_l=[]\n",
    "male_num_l=[]\n",
    "male_exp_l=[]\n",
    "famel_exp_l=[]\n",
    "diff_avg_relevance_l=[]\n",
    "\n",
    "for q in sorted(f_queries_co):\n",
    "    count_famel=0\n",
    "    count_male=0\n",
    "    famel_num_stars=0\n",
    "    male_num_stars=0\n",
    "    diff_avg_relevance=0.0\n",
    "    quary=q \n",
    "    df_20 = df_u2_sex_filtered[(df_u2_sex_filtered['speciality'] == q) & (df_u2_sex_filtered['source'] == 'top doctors')].sort_values('#')[:20]\n",
    "    for index, row in df_20.iterrows():\n",
    "        if (row['gender'] == 'female'):\n",
    "            count_famel=count_famel+1\n",
    "            \n",
    "            famel_num_stars=famel_num_stars+row['num_stars']\n",
    "        elif (row['gender'] == 'male'):\n",
    "            count_male=count_male+1\n",
    "            male_num_stars=male_num_stars+row['num_stars']\n",
    "        else:\n",
    "            continue\n",
    "    print(q)\n",
    "    if(count_famel!=0):\n",
    "        med_famel=round(famel_num_stars/count_famel,2)\n",
    "    if(count_male!=0):\n",
    "        med_male=round(male_num_stars/count_male,2)\n",
    "    diff_avg_relevance=round(abs(med_famel-med_male),2)\n",
    "\n",
    "    print('count_famel',count_famel) \n",
    "    print('count_male',count_male)    \n",
    "    print('med_male',med_male)    \n",
    "    print('med_famel',med_famel) \n",
    "    print('diff_avg_relevance',diff_avg_relevance)    \n",
    "\n",
    "    male_exp_l.append(med_male)\n",
    "    famel_exp_l.append(med_famel)\n",
    "    diff_avg_relevance_l.append(diff_avg_relevance)\n",
    "\n",
    "    new_row ={'query':q, 'famel_med_bia':med_famel, 'male_med_bia':med_male}\n",
    "            #append row to the dataframe\n",
    "#    my_df.append(new_row,ignore_index=True)"
   ]
  },
  {
   "cell_type": "code",
   "execution_count": 9,
   "metadata": {
    "collapsed": true
   },
   "outputs": [],
   "source": [
    "exp_medList = pd.DataFrame(\n",
    "    {'M_AVR': male_exp_l,\n",
    "     'F_AVR': famel_exp_l}, index=f_queries_co)"
   ]
  },
  {
   "cell_type": "code",
   "execution_count": 10,
   "metadata": {
    "collapsed": true
   },
   "outputs": [],
   "source": [
    "export_csv = exp_medList.to_csv (r'difference_in_avg_relevance_Doctor_colombia.csv', header=True) #Don't forget to add '.csv' at the end of the path\n"
   ]
  },
  {
   "cell_type": "code",
   "execution_count": 13,
   "metadata": {},
   "outputs": [],
   "source": [
    "exp_medList_split = np.array_split(exp_medList, 3)"
   ]
  },
  {
   "cell_type": "code",
   "execution_count": 15,
   "metadata": {
    "collapsed": true
   },
   "outputs": [
    {
     "data": {
      "image/png": "[encoded data removed]",
      "text/plain": [
       "<Figure size 432x288 with 1 Axes>"
      ]
     },
     "metadata": {
      "needs_background": "light"
     },
     "output_type": "display_data"
    }
   ],
   "source": [
    "ax = exp_medList_split[0].plot.barh(rot=0)"
   ]
  },
  {
   "cell_type": "code",
   "execution_count": 16,
   "metadata": {
    "collapsed": true
   },
   "outputs": [
    {
     "data": {
      "image/png": "[encoded data removed]",
      "text/plain": [
       "<Figure size 432x288 with 1 Axes>"
      ]
     },
     "metadata": {
      "needs_background": "light"
     },
     "output_type": "display_data"
    }
   ],
   "source": [
    "ax = exp_medList_split[1].plot.barh(rot=0)"
   ]
  },
  {
   "cell_type": "code",
   "execution_count": 17,
   "metadata": {
    "collapsed": true
   },
   "outputs": [
    {
     "data": {
      "image/png": "[encoded data removed]",
      "text/plain": [
       "<Figure size 432x288 with 1 Axes>"
      ]
     },
     "metadata": {
      "needs_background": "light"
     },
     "output_type": "display_data"
    }
   ],
   "source": [
    "ax = exp_medList_split[2].plot.barh(rot=0)"
   ]
  },
  {
   "cell_type": "code",
   "execution_count": 19,
   "metadata": {
    "collapsed": true
   },
   "outputs": [],
   "source": [
    "def get_bias(i): \n",
    "    log2 = math.log2(i+1)\n",
    "    return  1/log2"
   ]
  },
  {
   "cell_type": "code",
   "execution_count": 20,
   "metadata": {
    "collapsed": true
   },
   "outputs": [
    {
     "name": "stdout",
     "output_type": "stream",
     "text": [
      "angiologia y cirugia vascular\n",
      "famel_bais 0.0\n",
      "male_bais 0.35\n",
      "diff_avg_exposure 0.35\n",
      "cardiologia adultos\n",
      "famel_bais 0.62\n",
      "male_bais 0.32\n",
      "diff_avg_exposure 0.3\n",
      "cirugia general\n",
      "famel_bais 0.5\n",
      "male_bais 0.34\n",
      "diff_avg_exposure 0.16\n",
      "cirugia oral y maxilofacial\n",
      "famel_bais 0.3\n",
      "male_bais 0.37\n",
      "diff_avg_exposure 0.07\n",
      "cirugia plastica estetica y reparadora\n",
      "famel_bais 0.37\n",
      "male_bais 0.35\n",
      "diff_avg_exposure 0.02\n",
      "dermatologia\n",
      "famel_bais 0.36\n",
      "male_bais 0.32\n",
      "diff_avg_exposure 0.04\n",
      "endocrinologia\n",
      "famel_bais 0.44\n",
      "male_bais 0.31\n",
      "diff_avg_exposure 0.13\n",
      "gastroenterologia especialidad\n",
      "famel_bais 0.28\n",
      "male_bais 0.38\n",
      "diff_avg_exposure 0.1\n",
      "ginecologia y obstetricia\n",
      "famel_bais 0.29\n",
      "male_bais 0.37\n",
      "diff_avg_exposure 0.08\n",
      "medicina estetica\n",
      "famel_bais 0.29\n",
      "male_bais 0.5\n",
      "diff_avg_exposure 0.21\n",
      "neurocirugia\n",
      "famel_bais 0.32\n",
      "male_bais 0.35\n",
      "diff_avg_exposure 0.03\n",
      "odontologia y estomatologia\n",
      "famel_bais 0.31\n",
      "male_bais 0.4\n",
      "diff_avg_exposure 0.09\n",
      "oftalmologia\n",
      "famel_bais 0.35\n",
      "male_bais 0.35\n",
      "diff_avg_exposure 0.0\n",
      "otorrinolaringologia\n",
      "famel_bais 0.49\n",
      "male_bais 0.29\n",
      "diff_avg_exposure 0.2\n",
      "pediatria\n",
      "famel_bais 0.37\n",
      "male_bais 0.33\n",
      "diff_avg_exposure 0.04\n",
      "psicologia\n",
      "famel_bais 0.32\n",
      "male_bais 0.45\n",
      "diff_avg_exposure 0.13\n",
      "psiquiatria\n",
      "famel_bais 0.42\n",
      "male_bais 0.3\n",
      "diff_avg_exposure 0.12\n",
      "reumatologia\n",
      "famel_bais 0.43\n",
      "male_bais 0.31\n",
      "diff_avg_exposure 0.12\n",
      "traumatologia y ortopedia\n",
      "famel_bais 0.3\n",
      "male_bais 0.36\n",
      "diff_avg_exposure 0.06\n",
      "urologia\n",
      "famel_bais 0.0\n",
      "male_bais 0.35\n",
      "diff_avg_exposure 0.35\n"
     ]
    }
   ],
   "source": [
    "famel_num_l=[]\n",
    "male_num_l=[]\n",
    "male_bia_l=[]\n",
    "famel_bia_l=[]\n",
    "diff_avg_exposure_l=[]\n",
    "for q in sorted(f_queries_co):  \n",
    "    diff_avg_exposure=0.0    \n",
    "    count=0\n",
    "    med_famel=0.0\n",
    "    med_male=0.0\n",
    "    count_famel=0\n",
    "    count_male=0\n",
    "    famel_bais=0\n",
    "    male_bais=0\n",
    "    quary=q \n",
    "    df_20 = df_u2_sex_filtered[(df_u2_sex_filtered['speciality'] == q) & (df_u2_sex_filtered['source'] == 'top doctors')].sort_values('#')[:20]\n",
    "    for index, row in df_20.iterrows():\n",
    "        \n",
    "        if (row['gender'] == 'female'):\n",
    "            count=count+1\n",
    "            famel_bais=famel_bais+get_bias(count)\n",
    "            count_famel=count_famel+1\n",
    "            #print ('count',count)\n",
    "            #print ('famel_bais',famel_bais)\n",
    "            \n",
    "        elif (row['gender'] == 'male'):\n",
    "            count=count+1\n",
    "            male_bais=male_bais+get_bias(count)\n",
    "            count_male=count_male+1\n",
    "\n",
    "            #print ('count',count)\n",
    "            #print ('male_bais',male_bais)\n",
    "            \n",
    "        else:\n",
    "            continue\n",
    "    print(q)\n",
    "    if(count_famel!=0):\n",
    "        med_famel=round(famel_bais/count_famel,2)\n",
    "    if(count_male!=0):\n",
    "        med_male=round(male_bais/count_male,2)\n",
    "    diff_avg_exposure=round(abs(med_famel-med_male),2)\n",
    "\n",
    "    print('famel_bais',med_famel)\n",
    "    print('male_bais',med_male)  \n",
    "    print('diff_avg_exposure',diff_avg_exposure)    \n",
    "\n",
    "    male_bia_l.append(med_male)\n",
    "    famel_bia_l.append(med_famel)\n",
    "    diff_avg_exposure_l.append(diff_avg_exposure)"
   ]
  },
  {
   "cell_type": "code",
   "execution_count": 22,
   "metadata": {
    "collapsed": true
   },
   "outputs": [],
   "source": [
    "expA_medList = pd.DataFrame(\n",
    "    {'M_AVE': male_bia_l,\n",
    "     'F_AVE': famel_bia_l}, index=f_queries_co)"
   ]
  },
  {
   "cell_type": "code",
   "execution_count": 28,
   "metadata": {
    "collapsed": true
   },
   "outputs": [],
   "source": [
    "export_csv = expA_medList.to_csv (r' difference_in_avg_exposure_doctor_colombia.csv', header=True) #Don't forget to add '.csv' at the end of the path\n"
   ]
  },
  {
   "cell_type": "code",
   "execution_count": 23,
   "metadata": {
    "collapsed": true
   },
   "outputs": [],
   "source": [
    "expA_medList_split = np.array_split(expA_medList, 3)\n"
   ]
  },
  {
   "cell_type": "code",
   "execution_count": 24,
   "metadata": {
    "collapsed": true
   },
   "outputs": [
    {
     "data": {
      "image/png": "[encoded data removed]",
      "text/plain": [
       "<Figure size 432x288 with 1 Axes>"
      ]
     },
     "metadata": {
      "needs_background": "light"
     },
     "output_type": "display_data"
    }
   ],
   "source": [
    "ax = expA_medList_split[0].plot.barh(rot=0)"
   ]
  },
  {
   "cell_type": "code",
   "execution_count": 26,
   "metadata": {
    "collapsed": true
   },
   "outputs": [
    {
     "data": {
      "image/png": "[encoded data removed]",
      "text/plain": [
       "<Figure size 432x288 with 1 Axes>"
      ]
     },
     "metadata": {
      "needs_background": "light"
     },
     "output_type": "display_data"
    }
   ],
   "source": [
    "ax = expA_medList_split[1].plot.barh(rot=0)"
   ]
  },
  {
   "cell_type": "code",
   "execution_count": 27,
   "metadata": {
    "collapsed": true
   },
   "outputs": [
    {
     "data": {
      "image/png": "[encoded data removed]",
      "text/plain": [
       "<Figure size 432x288 with 1 Axes>"
      ]
     },
     "metadata": {
      "needs_background": "light"
     },
     "output_type": "display_data"
    }
   ],
   "source": [
    "ax = expA_medList_split[2].plot.barh(rot=0)"
   ]
  },
  {
   "cell_type": "code",
   "execution_count": 29,
   "metadata": {
    "collapsed": true
   },
   "outputs": [],
   "source": [
    "rsult=pd.concat([expA_medList, exp_medList], axis=1)\n"
   ]
  },
  {
   "cell_type": "code",
   "execution_count": 30,
   "metadata": {
    "collapsed": true
   },
   "outputs": [],
   "source": [
    "Diff_between_exp_rel = pd.DataFrame(\n",
    "    {'diff_avg_relevance':diff_avg_relevance_l,\n",
    "    'diff_avg_exposure':diff_avg_exposure_l}, index=f_queries_co)"
   ]
  },
  {
   "cell_type": "code",
   "execution_count": 31,
   "metadata": {
    "collapsed": true
   },
   "outputs": [],
   "source": [
    "export_csv = Diff_between_exp_rel.to_csv (r' Diff_between_exp_rel_doctor_colombia.csv', header=True) #Don't forget to add '.csv' at the end of the path\n"
   ]
  },
  {
   "cell_type": "code",
   "execution_count": 32,
   "metadata": {
    "collapsed": true
   },
   "outputs": [],
   "source": [
    "export_csv = rsult.to_csv (r' result_exp_rel_doctor_colombia.csv', header=True) #Don't forget to add '.csv' at the end of the path\n"
   ]
  },
  {
   "cell_type": "code",
   "execution_count": null,
   "metadata": {
    "collapsed": true
   },
   "outputs": [],
   "source": []
  }
 ],
 "metadata": {
  "kernelspec": {
   "display_name": "Python 3",
   "language": "python",
   "name": "python3"
  },
  "language_info": {
   "codemirror_mode": {
    "name": "ipython",
    "version": 3
   },
   "file_extension": ".py",
   "mimetype": "text/x-python",
   "name": "python",
   "nbconvert_exporter": "python",
   "pygments_lexer": "ipython3",
   "version": "3.6.8"
  }
 },
 "nbformat": 4,
 "nbformat_minor": 2
}
