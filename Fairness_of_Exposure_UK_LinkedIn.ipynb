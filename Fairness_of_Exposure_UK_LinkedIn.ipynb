{
 "cells": [
  {
   "cell_type": "code",
   "execution_count": 1,
   "metadata": {
    "collapsed": true
   },
   "outputs": [],
   "source": [
    "from fairsearchcore.models import FairScoreDoc\n",
    "import math\n",
    "import sys\n",
    "import warnings\n",
    "warnings.filterwarnings(\"ignore\")\n",
    "import fairsearchcore as fsc\n",
    "import sys\n",
    "import numpy as np\n",
    "import pandas as pd\n"
   ]
  },
  {
   "cell_type": "code",
   "execution_count": 3,
   "metadata": {
    "collapsed": true
   },
   "outputs": [],
   "source": [
    "%store -r queries_uk_l\n",
    "%store -r df_u1"
   ]
  },
  {
   "cell_type": "code",
   "execution_count": 6,
   "metadata": {
    "collapsed": true
   },
   "outputs": [],
   "source": [
    "def build_ranking_model(is_protected_list):\n",
    "    size = len(is_protected_list)\n",
    "    unfair_ranking = []\n",
    "    for i in range(size):\n",
    "        unfair_ranking.append(FairScoreDoc((size-i), (size-i), is_protected_list[i]))\n",
    "    return unfair_ranking"
   ]
  },
  {
   "cell_type": "code",
   "execution_count": 7,
   "metadata": {
    "collapsed": true
   },
   "outputs": [],
   "source": [
    "def is_ranking_fair(ranking, p, k, alpha=0.1):\n",
    "    #k = 20 # number of topK elements returned (value should be between 10 and 400)\n",
    "    #p = 0.1 # proportion of protected candidates in the topK elements (value should be between 0.02 and 0.98) \n",
    "    #alpha = 0.1 # significance level (value should be between 0.01 and 0.15)\n",
    "    \n",
    "    fair = fsc.Fair(k, p, alpha)\n",
    "    return fair.is_fair(ranking)"
   ]
  },
  {
   "cell_type": "code",
   "execution_count": 8,
   "metadata": {
    "collapsed": true
   },
   "outputs": [],
   "source": [
    "def get_min_size_elements(df, queries, source, country, min_elements=10, tag_name='query'):\n",
    "    min_size = float('inf')\n",
    "    min_query = \"\"\n",
    "    \"\"\"\n",
    "    print(\"{: >20} {: >10}\".format(\"Query\",\"Size\"))\n",
    "    print(\"-----------------------------------------\")\n",
    "    \"\"\"\n",
    "\n",
    "    for q in queries:\n",
    "        size = len(df[(df[tag_name]==q) & (df['source'] == source) ])\n",
    "        print(size)\n",
    "        print(q)\n",
    "\n",
    "        if (size < min_size) and (size >= min_elements):\n",
    "            min_size = size\n",
    "            print (min_size)\n",
    "\n",
    "            min_query = q\n",
    "            print (q)\n",
    "            print(\"\\n\")\n",
    "            print(\"{: >20} {: >10}\".format(q,size))\n",
    "    \n",
    "    \n",
    "    print(\"\\n\")\n",
    "    print(\"{: >20} {: >10}\".format(q,size))\n",
    "    \n",
    "    return min_size"
   ]
  },
  {
   "cell_type": "code",
   "execution_count": 9,
   "metadata": {
    "collapsed": true
   },
   "outputs": [],
   "source": [
    "def sex_discrimination(row, protected_sex='female'):\n",
    "    \n",
    "#    return (row['gender'] == protected_sex or None or 'unknown')        \n",
    "    return row['gender'] == protected_sex         \n",
    "#    return row['gender'] != 'male'         \n",
    "\n",
    "\n",
    "\n",
    "def experience_discrimination(row, protected_value = 'senior2-level'):\n",
    "    protected_value = translate_if_foreigner(protected_value)\n",
    "    return row['experience_level'] == protected_value \n"
   ]
  },
  {
   "cell_type": "code",
   "execution_count": 10,
   "metadata": {
    "collapsed": true
   },
   "outputs": [],
   "source": [
    "def get_fairness_metrics(df, queries, source, country, discrimination_function, positional_arguments, n, tag_name='query'):\n",
    "    protected_lists = []\n",
    "    q_list=[]\n",
    "    p_max_list=[]\n",
    "    p_values = [0.02, 0.1, 0.2, 0.3, 0.4, 0.5, 0.6, 0.7, 0.8, 0.9, 0.98]\n",
    "    print(\"{: >15} {: >10}\".format(\"Query\",\"p = True\"))\n",
    "    print('          '+'-'*20)\n",
    "    if discrimination_function == old_age_discrimination or discrimination_function == young_age_discrimination:\n",
    "        median = 35\n",
    "        print(\"Median age= \",median)\n",
    "\n",
    "    for q in sorted(list(queries)):\n",
    "        df_u1_res = df[(df[tag_name] == q) & (df['source'] == source) & (df['country'] == country)].sort_values('#')[:n]\n",
    "        df_u1_res.head()\n",
    "        if len(df_u1_res) == n: # if it has the minimum number of elements (minimum number of elements without unknowns for all queries)\n",
    "            is_protected_list = []\n",
    "            for i in range(len(df_u1_res)):\n",
    "                if discrimination_function == old_age_discrimination or discrimination_function == young_age_discrimination:\n",
    "                    condition = discrimination_function(df_u1_res.iloc[i], median)\n",
    "                else:\n",
    "                    condition = discrimination_function(df_u1_res.iloc[i],positional_arguments['protected_value'])\n",
    "                if condition:\n",
    "                    is_protected_list.append(True)\n",
    "                else:\n",
    "                    is_protected_list.append(False)\n",
    "            #print(is_protected_list)\n",
    "            protected_lists.append(is_protected_list)\n",
    "            ranking = build_ranking_model(is_protected_list)\n",
    "\n",
    "            is_fair_list = list([bool(is_ranking_fair(ranking,p, n)) for p in p_values])\n",
    "            if True in is_fair_list:\n",
    "                p_index = len(is_fair_list) - 1 - is_fair_list[::-1].index(True)\n",
    "                p_max = p_values[p_index]\n",
    "            else:\n",
    "                p_max = \"-\"\n",
    "            #print(is_fair_list)\n",
    "            if len(q) > 15: \n",
    "                q = q[:11]+'.'\n",
    "            print(\"{: >15} {: >10}\".format(q,p_max))\n",
    "            q_list.append(q)\n",
    "            p_max_list.append(p_max)\n",
    "    return q_list,p_max_list"
   ]
  },
  {
   "cell_type": "code",
   "execution_count": 11,
   "metadata": {
    "collapsed": true
   },
   "outputs": [],
   "source": [
    "#df_u1_sex_filtered=df_u1\n",
    "df_u1_sex_filtered = df_u1[(df_u1['gender'] != None) & (df_u1['gender'] != 'unknown')]\n",
    "df_u1_age_filtered = df_u1[df_u1.age.notnull() & df_u1.age.dropna()]\n",
    "df_u1_nationality_filtered = df_u1[df_u1.Is_foreigner.notnull() &  (df_u1['Is_foreigner']!='unknown') & (df_u1['Is_foreigner']!='tooshort')]\n",
    "df_u1_photo_filtered = df_u1[df_u1.has_photo.notnull()]\n",
    "df_u1_premium_filtered = df_u1[df_u1.is_premium.notnull()]\n",
    "df_u1_experience_filtered = df_u1[(df_u1['experience_level'] != None) & (df_u1['experience_level'] != 'unknown')]"
   ]
  },
  {
   "cell_type": "code",
   "execution_count": 12,
   "metadata": {
    "collapsed": true
   },
   "outputs": [],
   "source": [
    "min_size=15"
   ]
  },
  {
   "cell_type": "code",
   "execution_count": 13,
   "metadata": {
    "collapsed": true
   },
   "outputs": [],
   "source": [
    "def experience_to_number(argument): \n",
    "    switcher = { \n",
    "        \"senior2-level\":0.85, \n",
    "        'senior1-level':0.80, \n",
    "        'mid-level':0.75,\n",
    "        'entry-level':0.70,\n",
    "    }  \n",
    "    return switcher.get(argument, 0.60) "
   ]
  },
  {
   "cell_type": "code",
   "execution_count": 19,
   "metadata": {
    "collapsed": true
   },
   "outputs": [
    {
     "name": "stdout",
     "output_type": "stream",
     "text": [
      "architect\n",
      "count_famel 9\n",
      "count_male 6\n",
      "med_male 0.81\n",
      "med_famel 0.81\n",
      "diff_avg_relevance 0.0\n",
      "chef\n",
      "count_famel 5\n",
      "count_male 10\n",
      "med_male 0.81\n",
      "med_famel 0.82\n",
      "diff_avg_relevance 0.01\n",
      "consultant\n",
      "count_famel 7\n",
      "count_male 8\n",
      "med_male 0.82\n",
      "med_famel 0.78\n",
      "diff_avg_relevance 0.04\n",
      "dentist\n",
      "count_famel 7\n",
      "count_male 8\n",
      "med_male 0.81\n",
      "med_famel 0.81\n",
      "diff_avg_relevance 0.0\n",
      "designer\n",
      "count_famel 8\n",
      "count_male 7\n",
      "med_male 0.83\n",
      "med_famel 0.79\n",
      "diff_avg_relevance 0.04\n",
      "developer\n",
      "count_famel 6\n",
      "count_male 9\n",
      "med_male 0.81\n",
      "med_famel 0.78\n",
      "diff_avg_relevance 0.03\n",
      "doctor\n",
      "count_famel 7\n",
      "count_male 8\n",
      "med_male 0.77\n",
      "med_famel 0.81\n",
      "diff_avg_relevance 0.04\n",
      "economist\n",
      "count_famel 7\n",
      "count_male 8\n",
      "med_male 0.82\n",
      "med_famel 0.82\n",
      "diff_avg_relevance 0.0\n",
      "engineer\n",
      "count_famel 5\n",
      "count_male 10\n",
      "med_male 0.8\n",
      "med_famel 0.81\n",
      "diff_avg_relevance 0.01\n",
      "firefighter\n",
      "count_famel 3\n",
      "count_male 12\n",
      "med_male 0.8\n",
      "med_famel 0.85\n",
      "diff_avg_relevance 0.05\n",
      "gardener\n",
      "count_famel 2\n",
      "count_male 13\n",
      "med_male 0.78\n",
      "med_famel 0.82\n",
      "diff_avg_relevance 0.04\n",
      "hairdresser\n",
      "count_famel 11\n",
      "count_male 4\n",
      "med_male 0.83\n",
      "med_famel 0.83\n",
      "diff_avg_relevance 0.0\n",
      "instructor\n",
      "count_famel 9\n",
      "count_male 6\n",
      "med_male 0.81\n",
      "med_famel 0.79\n",
      "diff_avg_relevance 0.02\n",
      "judge\n",
      "count_famel 6\n",
      "count_male 9\n",
      "med_male 0.82\n",
      "med_famel 0.83\n",
      "diff_avg_relevance 0.01\n",
      "mechanic\n",
      "count_famel 1\n",
      "count_male 14\n",
      "med_male 0.81\n",
      "med_famel 0.7\n",
      "diff_avg_relevance 0.11\n",
      "nurse\n",
      "count_famel 12\n",
      "count_male 3\n",
      "med_male 0.8\n",
      "med_famel 0.81\n",
      "diff_avg_relevance 0.01\n",
      "pharmacist\n",
      "count_famel 7\n",
      "count_male 8\n",
      "med_male 0.78\n",
      "med_famel 0.78\n",
      "diff_avg_relevance 0.0\n",
      "photographer\n",
      "count_famel 7\n",
      "count_male 8\n",
      "med_male 0.82\n",
      "med_famel 0.8\n",
      "diff_avg_relevance 0.02\n",
      "physiotherapist\n",
      "count_famel 8\n",
      "count_male 7\n",
      "med_male 0.79\n",
      "med_famel 0.82\n",
      "diff_avg_relevance 0.03\n",
      "pilot\n",
      "count_famel 0\n",
      "count_male 15\n",
      "med_male 0.82\n",
      "med_famel 0.82\n",
      "diff_avg_relevance 0.0\n",
      "plumber\n",
      "count_famel 4\n",
      "count_male 11\n",
      "med_male 0.79\n",
      "med_famel 0.71\n",
      "diff_avg_relevance 0.08\n",
      "postman\n",
      "count_famel 3\n",
      "count_male 12\n",
      "med_male 0.79\n",
      "med_famel 0.75\n",
      "diff_avg_relevance 0.04\n",
      "psychiatrist\n",
      "count_famel 7\n",
      "count_male 8\n",
      "med_male 0.8\n",
      "med_famel 0.79\n",
      "diff_avg_relevance 0.01\n",
      "psychologist\n",
      "count_famel 14\n",
      "count_male 1\n",
      "med_male 0.8\n",
      "med_famel 0.79\n",
      "diff_avg_relevance 0.01\n",
      "radiographer\n",
      "count_famel 11\n",
      "count_male 4\n",
      "med_male 0.83\n",
      "med_famel 0.81\n",
      "diff_avg_relevance 0.02\n",
      "recruiter\n",
      "count_famel 13\n",
      "count_male 2\n",
      "med_male 0.82\n",
      "med_famel 0.83\n",
      "diff_avg_relevance 0.01\n",
      "reporter\n",
      "count_famel 7\n",
      "count_male 8\n",
      "med_male 0.8\n",
      "med_famel 0.82\n",
      "diff_avg_relevance 0.02\n",
      "salesman\n",
      "count_famel 3\n",
      "count_male 12\n",
      "med_male 0.77\n",
      "med_famel 0.73\n",
      "diff_avg_relevance 0.04\n",
      "scientist\n",
      "count_famel 5\n",
      "count_male 10\n",
      "med_male 0.82\n",
      "med_famel 0.83\n",
      "diff_avg_relevance 0.01\n",
      "secretary\n",
      "count_famel 9\n",
      "count_male 6\n",
      "med_male 0.81\n",
      "med_famel 0.78\n",
      "diff_avg_relevance 0.03\n",
      "surveyor\n",
      "count_famel 9\n",
      "count_male 6\n",
      "med_male 0.78\n",
      "med_famel 0.81\n",
      "diff_avg_relevance 0.03\n",
      "teacher\n",
      "count_famel 9\n",
      "count_male 6\n",
      "med_male 0.83\n",
      "med_famel 0.82\n",
      "diff_avg_relevance 0.01\n",
      "veterinarian\n",
      "count_famel 11\n",
      "count_male 4\n",
      "med_male 0.8\n",
      "med_famel 0.8\n",
      "diff_avg_relevance 0.0\n",
      "writer\n",
      "count_famel 7\n",
      "count_male 8\n",
      "med_male 0.81\n",
      "med_famel 0.79\n",
      "diff_avg_relevance 0.02\n"
     ]
    }
   ],
   "source": [
    "med_famel=0\n",
    "med_male=0\n",
    "\n",
    "famel_num_l=[]\n",
    "male_num_l=[]\n",
    "male_exp_l=[]\n",
    "famel_exp_l=[]\n",
    "diff_avg_relevance_l=[]\n",
    "\n",
    "for q in sorted(queries_uk_l):\n",
    "    count_famel=0\n",
    "    count_male=0\n",
    "    famel_exp=0\n",
    "    male_exp=0\n",
    "    diff_avg_relevance=0.0\n",
    "    quary=q \n",
    "    df_15 = df_u1_sex_filtered[(df_u1_sex_filtered['query'] == q) & (df_u1_sex_filtered['source'] == 'linkedin')].sort_values('#')[:15]\n",
    "    for index, row in df_15.iterrows():\n",
    "        if (row['gender'] == 'female'):\n",
    "            count_famel=count_famel+1\n",
    "            \n",
    "            famel_exp=famel_exp+experience_to_number(row['experience_level'])\n",
    "        elif (row['gender'] == 'male'):\n",
    "            count_male=count_male+1\n",
    "            male_exp=male_exp+experience_to_number(row['experience_level'])\n",
    "        else:\n",
    "            continue\n",
    "    print(q)\n",
    "    if(count_famel!=0):\n",
    "        med_famel=round(famel_exp/count_famel,2)\n",
    "    if(count_male!=0):\n",
    "        med_male=round(male_exp/count_male,2)\n",
    "    diff_avg_relevance=round(abs(med_famel-med_male),2)\n",
    "\n",
    "    print('count_famel',count_famel) \n",
    "    print('count_male',count_male)    \n",
    "    print('med_male',med_male)    \n",
    "    print('med_famel',med_famel) \n",
    "    print('diff_avg_relevance',diff_avg_relevance)    \n",
    "\n",
    "    male_exp_l.append(med_male)\n",
    "    famel_exp_l.append(med_famel)\n",
    "    diff_avg_relevance_l.append(diff_avg_relevance)\n",
    "\n",
    "    new_row ={'query':q, 'famel_med_bia':med_famel, 'male_med_bia':med_male}\n",
    "            #append row to the dataframe\n",
    "#    my_df.append(new_row,ignore_index=True)"
   ]
  },
  {
   "cell_type": "code",
   "execution_count": 23,
   "metadata": {
    "collapsed": true
   },
   "outputs": [],
   "source": [
    "exp_medList = pd.DataFrame(\n",
    "    {'M_AVR': male_exp_l,\n",
    "     'F_AVR': famel_exp_l,\n",
    "    'diff_avg_relevance':diff_avg_relevance_l}, index=queries_uk_l)"
   ]
  },
  {
   "cell_type": "code",
   "execution_count": 25,
   "metadata": {
    "collapsed": true
   },
   "outputs": [],
   "source": [
    "export_csv = exp_medList.to_csv (r'difference_in_avg_relevancemm.csv', header=True) #Don't forget to add '.csv' at the end of the path\n"
   ]
  },
  {
   "cell_type": "code",
   "execution_count": 92,
   "metadata": {
    "collapsed": true
   },
   "outputs": [],
   "source": [
    "exp_medList_split = np.array_split(exp_medList, 3)"
   ]
  },
  {
   "cell_type": "code",
   "execution_count": 93,
   "metadata": {
    "collapsed": true
   },
   "outputs": [
    {
     "data": {
      "image/png": "[encoded data removed]",
      "text/plain": [
       "<Figure size 432x288 with 1 Axes>"
      ]
     },
     "metadata": {
      "needs_background": "light"
     },
     "output_type": "display_data"
    }
   ],
   "source": [
    "ax = exp_medList_split[0].plot.barh(rot=0)"
   ]
  },
  {
   "cell_type": "code",
   "execution_count": 30,
   "metadata": {
    "collapsed": true
   },
   "outputs": [
    {
     "data": {
      "image/png": "[encoded data removed]",
      "text/plain": [
       "<Figure size 432x288 with 1 Axes>"
      ]
     },
     "metadata": {
      "needs_background": "light"
     },
     "output_type": "display_data"
    }
   ],
   "source": [
    "ax = exp_medList_split[1].plot.barh(rot=0)"
   ]
  },
  {
   "cell_type": "code",
   "execution_count": 31,
   "metadata": {
    "collapsed": true
   },
   "outputs": [
    {
     "data": {
      "image/png": "[encoded data removed]",
      "text/plain": [
       "<Figure size 432x288 with 1 Axes>"
      ]
     },
     "metadata": {
      "needs_background": "light"
     },
     "output_type": "display_data"
    }
   ],
   "source": [
    "ax = exp_medList_split[2].plot.barh(rot=0)"
   ]
  },
  {
   "cell_type": "code",
   "execution_count": 52,
   "metadata": {
    "collapsed": true
   },
   "outputs": [],
   "source": [
    "def get_bias(i): \n",
    "    log2 = math.log2(i+1)\n",
    "    return  1/log2"
   ]
  },
  {
   "cell_type": "code",
   "execution_count": 94,
   "metadata": {
    "collapsed": true
   },
   "outputs": [
    {
     "name": "stdout",
     "output_type": "stream",
     "text": [
      "architect\n",
      "famel_bais 0.41\n",
      "male_bais 0.35\n",
      "diff_avg_exposure 0.06\n",
      "chef\n",
      "famel_bais 0.39\n",
      "male_bais 0.39\n",
      "diff_avg_exposure 0.0\n",
      "consultant\n",
      "famel_bais 0.36\n",
      "male_bais 0.42\n",
      "diff_avg_exposure 0.06\n",
      "dentist\n",
      "famel_bais 0.31\n",
      "male_bais 0.49\n",
      "diff_avg_exposure 0.18\n",
      "designer\n",
      "famel_bais 0.45\n",
      "male_bais 0.3\n",
      "diff_avg_exposure 0.15\n",
      "developer\n",
      "famel_bais 0.37\n",
      "male_bais 0.4\n",
      "diff_avg_exposure 0.03\n",
      "doctor\n",
      "famel_bais 0.38\n",
      "male_bais 0.4\n",
      "diff_avg_exposure 0.02\n",
      "economist\n",
      "famel_bais 0.35\n",
      "male_bais 0.43\n",
      "diff_avg_exposure 0.08\n",
      "engineer\n",
      "famel_bais 0.28\n",
      "male_bais 0.46\n",
      "diff_avg_exposure 0.18\n",
      "firefighter\n",
      "famel_bais 0.52\n",
      "male_bais 0.34\n",
      "diff_avg_exposure 0.18\n",
      "gardener\n",
      "famel_bais 0.29\n",
      "male_bais 0.41\n",
      "diff_avg_exposure 0.12\n",
      "hairdresser\n",
      "famel_bais 0.43\n",
      "male_bais 0.29\n",
      "diff_avg_exposure 0.14\n",
      "instructor\n",
      "famel_bais 0.44\n",
      "male_bais 0.34\n",
      "diff_avg_exposure 0.1\n",
      "judge\n",
      "famel_bais 0.47\n",
      "male_bais 0.35\n",
      "diff_avg_exposure 0.12\n",
      "mechanic\n",
      "famel_bais 0.29\n",
      "male_bais 0.4\n",
      "diff_avg_exposure 0.11\n",
      "nurse\n",
      "famel_bais 0.42\n",
      "male_bais 0.29\n",
      "diff_avg_exposure 0.13\n",
      "pharmacist\n",
      "famel_bais 0.36\n",
      "male_bais 0.44\n",
      "diff_avg_exposure 0.08\n",
      "photographer\n",
      "famel_bais 0.38\n",
      "male_bais 0.4\n",
      "diff_avg_exposure 0.02\n",
      "physiotherapist\n",
      "famel_bais 0.43\n",
      "male_bais 0.33\n",
      "diff_avg_exposure 0.1\n",
      "pilot\n",
      "famel_bais 0.0\n",
      "male_bais 0.39\n",
      "diff_avg_exposure 0.39\n",
      "plumber\n",
      "famel_bais 0.29\n",
      "male_bais 0.41\n",
      "diff_avg_exposure 0.12\n",
      "postman\n",
      "famel_bais 0.29\n",
      "male_bais 0.41\n",
      "diff_avg_exposure 0.12\n",
      "psychiatrist\n",
      "famel_bais 0.32\n",
      "male_bais 0.47\n",
      "diff_avg_exposure 0.15\n",
      "psychologist\n",
      "famel_bais 0.39\n",
      "male_bais 0.0\n",
      "diff_avg_exposure 0.39\n",
      "radiographer\n",
      "famel_bais 0.38\n",
      "male_bais 0.41\n",
      "diff_avg_exposure 0.03\n",
      "recruiter\n",
      "famel_bais 0.41\n",
      "male_bais 0.29\n",
      "diff_avg_exposure 0.12\n",
      "reporter\n",
      "famel_bais 0.41\n",
      "male_bais 0.37\n",
      "diff_avg_exposure 0.04\n",
      "salesman\n",
      "famel_bais 0.39\n",
      "male_bais 0.39\n",
      "diff_avg_exposure 0.0\n",
      "scientist\n",
      "famel_bais 0.48\n",
      "male_bais 0.34\n",
      "diff_avg_exposure 0.14\n",
      "secretary\n",
      "famel_bais 0.45\n",
      "male_bais 0.32\n",
      "diff_avg_exposure 0.13\n",
      "surveyor\n",
      "famel_bais 0.41\n",
      "male_bais 0.36\n",
      "diff_avg_exposure 0.05\n",
      "teacher\n",
      "famel_bais 0.36\n",
      "male_bais 0.42\n",
      "diff_avg_exposure 0.06\n",
      "veterinarian\n",
      "famel_bais 0.35\n",
      "male_bais 0.56\n",
      "diff_avg_exposure 0.21\n",
      "writer\n",
      "famel_bais 0.42\n",
      "male_bais 0.35\n",
      "diff_avg_exposure 0.07\n"
     ]
    }
   ],
   "source": [
    "famel_num_l=[]\n",
    "male_num_l=[]\n",
    "male_bia_l=[]\n",
    "famel_bia_l=[]\n",
    "diff_avg_exposure_l=[]\n",
    "for q in sorted(queries_uk_l):  \n",
    "    diff_avg_exposure=0.0    \n",
    "    count=0\n",
    "    med_famel=0.0\n",
    "    med_male=0.0\n",
    "    count_famel=0\n",
    "    count_male=0\n",
    "    famel_bais=0\n",
    "    male_bais=0\n",
    "    quary=q \n",
    "    df_15 = df_u1_sex_filtered[(df_u1_sex_filtered['query'] == q) & (df_u1_sex_filtered['source'] == 'linkedin')].sort_values('#')[:15]\n",
    "    for index, row in df_15.iterrows():\n",
    "        \n",
    "        if (row['gender'] == 'female'):\n",
    "            count=count+1\n",
    "            famel_bais=famel_bais+get_bias(count)\n",
    "            count_famel=count_famel+1\n",
    "            #print ('count',count)\n",
    "            #print ('famel_bais',famel_bais)\n",
    "            \n",
    "        elif (row['gender'] == 'male'):\n",
    "            count=count+1\n",
    "            male_bais=male_bais+get_bias(count)\n",
    "            count_male=count_male+1\n",
    "\n",
    "            #print ('count',count)\n",
    "            #print ('male_bais',male_bais)\n",
    "            \n",
    "        else:\n",
    "            continue\n",
    "    print(q)\n",
    "    if(count_famel!=0):\n",
    "        med_famel=round(famel_bais/count_famel,2)\n",
    "    if(count_male!=0):\n",
    "        med_male=round(male_bais/count_male,2)\n",
    "    diff_avg_exposure=round(abs(med_famel-med_male),2)\n",
    "#    print('count_famel',count_famel) \n",
    "#    print('count_male',count_male)    \n",
    "    print('famel_bais',med_famel)\n",
    "    print('male_bais',med_male)  \n",
    "    print('diff_avg_exposure',diff_avg_exposure)    \n",
    "\n",
    "    male_bia_l.append(med_male)\n",
    "    famel_bia_l.append(med_famel)\n",
    "    diff_avg_exposure_l.append(diff_avg_exposure)\n",
    "    #new_row ={'query':q, 'famel_num':count_famel, 'male_num':count_male, 'famel_exp':famel_exp, 'male_exp':male_exp}\n",
    "            #append row to the dataframe\n",
    "    #my_df.append(new_row,ignore_index=True)\n",
    "            "
   ]
  },
  {
   "cell_type": "code",
   "execution_count": 95,
   "metadata": {
    "collapsed": true
   },
   "outputs": [],
   "source": [
    "expA_medList = pd.DataFrame(\n",
    "    {'M_AVE': male_bia_l,\n",
    "     'F_AVE': famel_bia_l,\n",
    "    'diff_avg_exposure':diff_avg_exposure_l}, index=queries_uk_l)"
   ]
  },
  {
   "cell_type": "code",
   "execution_count": 61,
   "metadata": {
    "collapsed": true
   },
   "outputs": [],
   "source": [
    "expA_medList_split = np.array_split(expA_medList, 3)\n"
   ]
  },
  {
   "cell_type": "code",
   "execution_count": 62,
   "metadata": {
    "collapsed": true
   },
   "outputs": [
    {
     "data": {
      "image/png": "[encoded data removed]",
      "text/plain": [
       "<Figure size 432x288 with 1 Axes>"
      ]
     },
     "metadata": {
      "needs_background": "light"
     },
     "output_type": "display_data"
    }
   ],
   "source": [
    "ax = expA_medList_split[0].plot.barh(rot=0)"
   ]
  },
  {
   "cell_type": "code",
   "execution_count": 63,
   "metadata": {
    "collapsed": true
   },
   "outputs": [
    {
     "data": {
      "text/plain": [
       "<bound method NDFrame.head of                 F_AVE     M_AVE\n",
       "query                          \n",
       "architect    0.414617  0.354966\n",
       "chef         0.391313  0.390554\n",
       "consultant   0.359363  0.418226\n",
       "dentist      0.306519  0.487028\n",
       "designer     0.452586  0.298012\n",
       "developer    0.369528  0.404909\n",
       "doctor       0.384804  0.395965\n",
       "economist    0.351168  0.425397\n",
       "engineer     0.282006  0.463257\n",
       "firefighter  0.516882  0.344893\n",
       "gardener     0.291667  0.406001\n",
       "hairdresser  0.425793  0.294408>"
      ]
     },
     "execution_count": 63,
     "metadata": {},
     "output_type": "execute_result"
    }
   ],
   "source": [
    "expA_medList_split[0].head"
   ]
  },
  {
   "cell_type": "code",
   "execution_count": 64,
   "metadata": {
    "collapsed": true
   },
   "outputs": [
    {
     "data": {
      "image/png": "[encoded data removed]",
      "text/plain": [
       "<Figure size 432x288 with 1 Axes>"
      ]
     },
     "metadata": {
      "needs_background": "light"
     },
     "output_type": "display_data"
    }
   ],
   "source": [
    "ax = expA_medList_split[2].plot.barh(rot=0)"
   ]
  },
  {
   "cell_type": "code",
   "execution_count": 65,
   "metadata": {
    "collapsed": true
   },
   "outputs": [
    {
     "data": {
      "image/png": "[encoded data removed]",
      "text/plain": [
       "<Figure size 432x288 with 1 Axes>"
      ]
     },
     "metadata": {
      "needs_background": "light"
     },
     "output_type": "display_data"
    }
   ],
   "source": [
    "ax = expA_medList_split[1].plot.barh(rot=0)"
   ]
  },
  {
   "cell_type": "code",
   "execution_count": 96,
   "metadata": {
    "collapsed": true
   },
   "outputs": [],
   "source": [
    "export_csv = expA_medList.to_csv (r' difference_in_avg_exposure.csv', header=True) #Don't forget to add '.csv' at the end of the path\n"
   ]
  },
  {
   "cell_type": "code",
   "execution_count": 73,
   "metadata": {
    "collapsed": true
   },
   "outputs": [],
   "source": [
    "rsult=pd.concat([expA_medList, exp_medList], axis=1)\n"
   ]
  },
  {
   "cell_type": "code",
   "execution_count": 75,
   "metadata": {
    "collapsed": true
   },
   "outputs": [],
   "source": [
    "rsult_split = np.array_split(rsult, 3)\n"
   ]
  },
  {
   "cell_type": "code",
   "execution_count": 77,
   "metadata": {
    "collapsed": true
   },
   "outputs": [
    {
     "data": {
      "image/png": "[encoded data removed]",
      "text/plain": [
       "<Figure size 432x288 with 1 Axes>"
      ]
     },
     "metadata": {
      "needs_background": "light"
     },
     "output_type": "display_data"
    }
   ],
   "source": [
    "ax = rsult_split[1].plot.barh(rot=0)"
   ]
  },
  {
   "cell_type": "code",
   "execution_count": 98,
   "metadata": {
    "collapsed": true
   },
   "outputs": [],
   "source": [
    "Diff_between_exp_rel = pd.DataFrame(\n",
    "    {'diff_avg_relevance':diff_avg_relevance_l,\n",
    "    'diff_avg_exposure':diff_avg_exposure_l}, index=queries_uk_l)"
   ]
  },
  {
   "cell_type": "code",
   "execution_count": 101,
   "metadata": {
    "collapsed": true
   },
   "outputs": [],
   "source": [
    "export_csv = Diff_between_exp_rel.to_csv (r' Diff_between_exp_rel.csv', header=True) #Don't forget to add '.csv' at the end of the path\n"
   ]
  },
  {
   "cell_type": "code",
   "execution_count": 102,
   "metadata": {
    "collapsed": true
   },
   "outputs": [],
   "source": [
    "Diff_between_exp_rel_splited = np.array_split(Diff_between_exp_rel, 3)\n"
   ]
  },
  {
   "cell_type": "code",
   "execution_count": 103,
   "metadata": {
    "collapsed": true
   },
   "outputs": [
    {
     "data": {
      "image/png": "[encoded data removed]",
      "text/plain": [
       "<Figure size 432x288 with 1 Axes>"
      ]
     },
     "metadata": {
      "needs_background": "light"
     },
     "output_type": "display_data"
    }
   ],
   "source": [
    "ax = Diff_between_exp_rel_splited[0].plot.barh(rot=0)"
   ]
  },
  {
   "cell_type": "code",
   "execution_count": 104,
   "metadata": {
    "collapsed": true
   },
   "outputs": [
    {
     "data": {
      "image/png": "[encoded data removed]",
      "text/plain": [
       "<Figure size 432x288 with 1 Axes>"
      ]
     },
     "metadata": {
      "needs_background": "light"
     },
     "output_type": "display_data"
    }
   ],
   "source": [
    "ax = Diff_between_exp_rel_splited[1].plot.barh(rot=0)"
   ]
  },
  {
   "cell_type": "code",
   "execution_count": 105,
   "metadata": {
    "collapsed": true
   },
   "outputs": [
    {
     "data": {
      "image/png": "[encoded data removed]",
      "text/plain": [
       "<Figure size 432x288 with 1 Axes>"
      ]
     },
     "metadata": {
      "needs_background": "light"
     },
     "output_type": "display_data"
    }
   ],
   "source": [
    "ax = Diff_between_exp_rel_splited[2].plot.barh(rot=0)"
   ]
  }
 ],
 "metadata": {
  "kernelspec": {
   "display_name": "Python 3",
   "language": "python",
   "name": "python3"
  },
  "language_info": {
   "codemirror_mode": {
    "name": "ipython",
    "version": 3
   },
   "file_extension": ".py",
   "mimetype": "text/x-python",
   "name": "python",
   "nbconvert_exporter": "python",
   "pygments_lexer": "ipython3",
   "version": "3.6.8"
  }
 },
 "nbformat": 4,
 "nbformat_minor": 2
}
