{
 "cells": [
  {
   "cell_type": "code",
   "execution_count": 1,
   "metadata": {
    "collapsed": true
   },
   "outputs": [],
   "source": [
    "from fairsearchcore.models import FairScoreDoc\n",
    "import math\n",
    "import sys\n",
    "import warnings\n",
    "warnings.filterwarnings(\"ignore\")\n",
    "import fairsearchcore as fsc\n",
    "import sys\n",
    "import numpy as np\n",
    "import pandas as pd\n"
   ]
  },
  {
   "cell_type": "code",
   "execution_count": 3,
   "metadata": {
    "collapsed": true
   },
   "outputs": [],
   "source": [
    "%store -r queries_uk_l\n",
    "%store -r df_u1\n",
    "%store -r df_uVideo\n",
    "%store -r queries_uk_v"
   ]
  },
  {
   "cell_type": "code",
   "execution_count": 6,
   "metadata": {
    "collapsed": true
   },
   "outputs": [],
   "source": [
    "def build_ranking_model(is_protected_list):\n",
    "    size = len(is_protected_list)\n",
    "    unfair_ranking = []\n",
    "    for i in range(size):\n",
    "        unfair_ranking.append(FairScoreDoc((size-i), (size-i), is_protected_list[i]))\n",
    "    return unfair_ranking"
   ]
  },
  {
   "cell_type": "code",
   "execution_count": 7,
   "metadata": {
    "collapsed": true
   },
   "outputs": [],
   "source": [
    "def is_ranking_fair(ranking, p, k, alpha=0.1):\n",
    "\n",
    "    fair = fsc.Fair(k, p, alpha)\n",
    "    return fair.is_fair(ranking)"
   ]
  },
  {
   "cell_type": "code",
   "execution_count": 8,
   "metadata": {
    "collapsed": true
   },
   "outputs": [],
   "source": [
    "def get_min_size_elements(df, queries, source, country, min_elements=10, tag_name='query'):\n",
    "    min_size = float('inf')\n",
    "    min_query = \"\"\n",
    " \n",
    "    for q in queries:\n",
    "        size = len(df[(df[tag_name]==q) & (df['source'] == source) ])\n",
    "        print(size)\n",
    "        print(q)\n",
    "\n",
    "        if (size < min_size) and (size >= min_elements):\n",
    "            min_size = size\n",
    "            print (min_size)\n",
    "\n",
    "            min_query = q\n",
    "            print (q)\n",
    "            print(\"\\n\")\n",
    "            print(\"{: >20} {: >10}\".format(q,size))\n",
    "    \n",
    "    \n",
    "    print(\"\\n\")\n",
    "    print(\"{: >20} {: >10}\".format(q,size))\n",
    "    \n",
    "    return min_size"
   ]
  },
  {
   "cell_type": "code",
   "execution_count": 9,
   "metadata": {
    "collapsed": true
   },
   "outputs": [],
   "source": [
    "def sex_discrimination(row, protected_sex='female'):\n",
    "    \n",
    "    return (row['gender'] == protected_sex or None or 'unknown')        \n",
    "#    return row['gender'] == protected_sex         \n",
    "#    return row['gender'] != 'male'         \n",
    "\n"
   ]
  },
  {
   "cell_type": "code",
   "execution_count": 10,
   "metadata": {
    "collapsed": true
   },
   "outputs": [],
   "source": [
    "def get_fairness_metrics(df, queries, source, country, discrimination_function, positional_arguments, n, tag_name='query'):\n",
    "    protected_lists = []\n",
    "    q_list=[]\n",
    "    p_max_list=[]\n",
    "    p_values = [0.02, 0.1, 0.2, 0.3, 0.4, 0.5, 0.6, 0.7, 0.8, 0.9, 0.98]\n",
    "    print(\"{: >15} {: >10}\".format(\"Query\",\"p = True\"))\n",
    "    print('          '+'-'*20)\n",
    "    if discrimination_function == old_age_discrimination or discrimination_function == young_age_discrimination:\n",
    "        median = 35\n",
    "        print(\"Median age= \",median)\n",
    "\n",
    "    for q in sorted(list(queries)):\n",
    "        df_u1_res = df[(df[tag_name] == q) & (df['source'] == source) & (df['country'] == country)].sort_values('#')[:n]\n",
    "        df_u1_res.head()\n",
    "        if len(df_u1_res) == n: # if it has the minimum number of elements (minimum number of elements without unknowns for all queries)\n",
    "            is_protected_list = []\n",
    "            for i in range(len(df_u1_res)):\n",
    "                if discrimination_function == old_age_discrimination or discrimination_function == young_age_discrimination:\n",
    "                    condition = discrimination_function(df_u1_res.iloc[i], median)\n",
    "                else:\n",
    "                    condition = discrimination_function(df_u1_res.iloc[i],positional_arguments['protected_value'])\n",
    "                if condition:\n",
    "                    is_protected_list.append(True)\n",
    "                else:\n",
    "                    is_protected_list.append(False)\n",
    "            #print(is_protected_list)\n",
    "            protected_lists.append(is_protected_list)\n",
    "            ranking = build_ranking_model(is_protected_list)\n",
    "\n",
    "            is_fair_list = list([bool(is_ranking_fair(ranking,p, n)) for p in p_values])\n",
    "            if True in is_fair_list:\n",
    "                p_index = len(is_fair_list) - 1 - is_fair_list[::-1].index(True)\n",
    "                p_max = p_values[p_index]\n",
    "            else:\n",
    "                p_max = \"-\"\n",
    "            #print(is_fair_list)\n",
    "            if len(q) > 15: \n",
    "                q = q[:11]+'.'\n",
    "            print(\"{: >15} {: >10}\".format(q,p_max))\n",
    "            q_list.append(q)\n",
    "            p_max_list.append(p_max)\n",
    "    return q_list,p_max_list"
   ]
  },
  {
   "cell_type": "code",
   "execution_count": 9,
   "metadata": {
    "collapsed": true
   },
   "outputs": [],
   "source": [
    "#df_u1_sex_filtered=df_u1\n",
    "df_u1_sex_filtered = df_u1[(df_u1['gender'] != None) & (df_u1['gender'] != 'unknown')]\n",
    "df_u1_experience_filtered = df_u1[(df_u1['experience_level'] != None) & (df_u1['experience_level'] != 'unknown')]"
   ]
  },
  {
   "cell_type": "code",
   "execution_count": 10,
   "metadata": {},
   "outputs": [
    {
     "name": "stdout",
     "output_type": "stream",
     "text": [
      "Source: Linkedin \n",
      "Country:  United Kingdom\n"
     ]
    }
   ],
   "source": [
    "queries_l = queries_uk_l "
   ]
  },
  {
   "cell_type": "code",
   "execution_count": 13,
   "metadata": {
    "collapsed": true
   },
   "outputs": [],
   "source": [
    "for q in sorted(queries_uk_l):\n",
    "        df_15 = df_u1_sex_filtered[(df_u1_sex_filtered['query'] == q) & (df_u1_sex_filtered['source'] == 'linkedin')].sort_values('#')[:15]"
   ]
  },
  {
   "cell_type": "code",
   "execution_count": 54,
   "metadata": {
    "collapsed": true
   },
   "outputs": [],
   "source": [
    "export_csv = df_15.to_csv (r'Unknown_removed.csv', index = None, header=True) #Don't forget to add '.csv' at the end of the path\n"
   ]
  },
  {
   "cell_type": "code",
   "execution_count": 12,
   "metadata": {},
   "outputs": [
    {
     "name": "stdout",
     "output_type": "stream",
     "text": [
      "24\n",
      "architect\n",
      "24\n",
      "architect\n",
      "\n",
      "\n",
      "           architect         24\n",
      "24\n",
      "chef\n",
      "25\n",
      "consultant\n",
      "24\n",
      "dentist\n",
      "25\n",
      "designer\n",
      "24\n",
      "developer\n",
      "23\n",
      "doctor\n",
      "23\n",
      "doctor\n",
      "\n",
      "\n",
      "              doctor         23\n",
      "25\n",
      "economist\n",
      "25\n",
      "engineer\n",
      "25\n",
      "firefighter\n",
      "24\n",
      "gardener\n",
      "23\n",
      "hairdresser\n",
      "23\n",
      "instructor\n",
      "22\n",
      "judge\n",
      "22\n",
      "judge\n",
      "\n",
      "\n",
      "               judge         22\n",
      "22\n",
      "mechanic\n",
      "25\n",
      "nurse\n",
      "25\n",
      "pharmacist\n",
      "25\n",
      "photographer\n",
      "25\n",
      "physiotherapist\n",
      "23\n",
      "pilot\n",
      "23\n",
      "plumber\n",
      "25\n",
      "postman\n",
      "22\n",
      "psychiatrist\n",
      "24\n",
      "psychologist\n",
      "21\n",
      "radiographer\n",
      "21\n",
      "radiographer\n",
      "\n",
      "\n",
      "        radiographer         21\n",
      "23\n",
      "recruiter\n",
      "25\n",
      "reporter\n",
      "25\n",
      "salesman\n",
      "24\n",
      "scientist\n",
      "25\n",
      "secretary\n",
      "25\n",
      "surveyor\n",
      "23\n",
      "teacher\n",
      "23\n",
      "veterinarian\n",
      "24\n",
      "writer\n",
      "\n",
      "\n",
      "              writer         24\n",
      "Ranking size:  21\n"
     ]
    }
   ],
   "source": [
    "min_size = get_min_size_elements(df_u1_sex_filtered, queries_l, source='linkedin', country='United Kigndom')\n",
    "print(\"Ranking size: \",min_size)\n"
   ]
  },
  {
   "cell_type": "code",
   "execution_count": null,
   "metadata": {
    "collapsed": true
   },
   "outputs": [],
   "source": [
    "min_size = get_min_size_elements(df_uv_sex_filtered, queries_uk_v, source='linkedin', country='United Kigndom')\n",
    "print(\"Ranking size: \",min_size)"
   ]
  },
  {
   "cell_type": "code",
   "execution_count": 14,
   "metadata": {
    "collapsed": true
   },
   "outputs": [
    {
     "name": "stdout",
     "output_type": "stream",
     "text": [
      "Protected group: female\n",
      "\n",
      "          Query   p = True\n",
      "          --------------------\n",
      "      architect        0.7\n",
      "           chef        0.5\n",
      "     consultant        0.6\n",
      "        dentist        0.5\n",
      "       designer        0.7\n",
      "      developer        0.5\n",
      "         doctor        0.6\n",
      "      economist        0.6\n",
      "       engineer        0.5\n",
      "    firefighter        0.4\n",
      "       gardener        0.3\n",
      "    hairdresser        0.8\n",
      "     instructor        0.8\n",
      "          judge        0.6\n",
      "       mechanic        0.2\n",
      "          nurse        0.9\n",
      "     pharmacist        0.6\n",
      "   photographer        0.6\n",
      "physiotherapist        0.7\n",
      "          pilot        0.1\n",
      "        plumber        0.4\n",
      "        postman        0.2\n",
      "   psychiatrist        0.6\n",
      "   psychologist       0.98\n",
      "   radiographer        0.7\n",
      "      recruiter        0.9\n",
      "       reporter        0.6\n",
      "       salesman        0.4\n",
      "      scientist        0.5\n",
      "      secretary        0.7\n",
      "       surveyor        0.7\n",
      "        teacher        0.7\n",
      "   veterinarian        0.7\n",
      "         writer        0.6\n"
     ]
    }
   ],
   "source": [
    "q,p_max=get_fairness_metrics(df_u1_sex_filtered, queries_l, 'linkedin', 'United Kigndom', sex_discrimination, {'df':df_u1, 'protected_value':'female'}, min_size)"
   ]
  },
  {
   "cell_type": "code",
   "execution_count": 57,
   "metadata": {
    "collapsed": true
   },
   "outputs": [],
   "source": [
    "export_csv = df_u1_sex_filtered.to_csv (r'df_u1_sex_notfiltered.csv', index = None, header=True) #Don't forget to add '.csv' at the end of the path\n"
   ]
  },
  {
   "cell_type": "code",
   "execution_count": 26,
   "metadata": {
    "collapsed": true
   },
   "outputs": [
    {
     "name": "stdout",
     "output_type": "stream",
     "text": [
      "          Query   p = True\n",
      "          --------------------\n",
      "      architect        0.7\n",
      "           chef        0.4\n",
      "     consultant        0.6\n",
      "        dentist        0.5\n",
      "       designer        0.6\n",
      "      developer        0.5\n",
      "         doctor        0.6\n",
      "      economist        0.6\n",
      "       engineer        0.3\n",
      "    firefighter        0.4\n",
      "       gardener        0.2\n",
      "    hairdresser        0.8\n",
      "     instructor        0.7\n",
      "          judge        0.5\n",
      "       mechanic        0.2\n",
      "          nurse        0.8\n",
      "     pharmacist        0.6\n",
      "   photographer        0.6\n",
      "physiotherapist        0.7\n",
      "          pilot        0.1\n",
      "        plumber        0.1\n",
      "        postman        0.2\n",
      "   psychiatrist        0.4\n",
      "   psychologist        0.9\n",
      "   radiographer        0.7\n",
      "      recruiter        0.9\n",
      "       reporter        0.6\n",
      "       salesman        0.2\n",
      "      scientist        0.4\n",
      "      secretary        0.7\n",
      "       surveyor        0.7\n",
      "        teacher        0.7\n",
      "   veterinarian        0.6\n",
      "         writer        0.6\n"
     ]
    }
   ],
   "source": [
    "q,p_max_Unknown_nonProtected=get_fairness_metrics(df_u1, queries_l, 'linkedin', 'United Kigndom', sex_discrimination, {'df':df_u1, 'protected_value':'female'}, min_size)"
   ]
  },
  {
   "cell_type": "code",
   "execution_count": 28,
   "metadata": {
    "collapsed": true
   },
   "outputs": [
    {
     "name": "stdout",
     "output_type": "stream",
     "text": [
      "          Query   p = True\n",
      "          --------------------\n",
      "      architect        0.7\n",
      "           chef        0.6\n",
      "     consultant        0.6\n",
      "        dentist        0.6\n",
      "       designer        0.7\n",
      "      developer        0.6\n",
      "         doctor        0.7\n",
      "      economist        0.6\n",
      "       engineer        0.5\n",
      "    firefighter        0.4\n",
      "       gardener        0.3\n",
      "    hairdresser        0.9\n",
      "     instructor        0.8\n",
      "          judge        0.6\n",
      "       mechanic        0.2\n",
      "          nurse        0.9\n",
      "     pharmacist        0.8\n",
      "   photographer        0.7\n",
      "physiotherapist        0.8\n",
      "          pilot        0.1\n",
      "        plumber        0.7\n",
      "        postman        0.3\n",
      "   psychiatrist        0.7\n",
      "   psychologist       0.98\n",
      "   radiographer        0.9\n",
      "      recruiter        0.9\n",
      "       reporter        0.7\n",
      "       salesman        0.4\n",
      "      scientist        0.6\n",
      "      secretary        0.8\n",
      "       surveyor        0.8\n",
      "        teacher        0.7\n",
      "   veterinarian        0.9\n",
      "         writer        0.8\n"
     ]
    }
   ],
   "source": [
    "q,p_max_Unknown_Protected=get_fairness_metrics(df_u1, queries_l, 'linkedin', 'United Kigndom', sex_discrimination, {'df':df_u1, 'protected_value':'female'}, min_size)"
   ]
  },
  {
   "cell_type": "code",
   "execution_count": 29,
   "metadata": {
    "collapsed": true
   },
   "outputs": [],
   "source": [
    "df = pd.DataFrame({'Uk_R': p_max,'Uk_M': p_max_Unknown_nonProtected,'Uk_F': p_max_Unknown_Protected}, index=q)"
   ]
  },
  {
   "cell_type": "code",
   "execution_count": 33,
   "metadata": {
    "collapsed": true
   },
   "outputs": [],
   "source": [
    "export_csv = df.to_csv (r'df_uK_fairness_results.csv', index = None, header=True) #Don't forget to add '.csv' at the end of the path\n"
   ]
  },
  {
   "cell_type": "code",
   "execution_count": 17,
   "metadata": {
    "collapsed": true
   },
   "outputs": [],
   "source": [
    "df\t=\tpd.read_csv(\"/home/mulham/desktop/PhD_courses/job-search-discrimination-code-master/src/data-analysis/df_uK_fairness_results.csv\",sep=\";\")\n"
   ]
  },
  {
   "cell_type": "code",
   "execution_count": 34,
   "metadata": {
    "collapsed": true
   },
   "outputs": [],
   "source": [
    "df_split = np.array_split(df, 3)\n"
   ]
  },
  {
   "cell_type": "code",
   "execution_count": 36,
   "metadata": {
    "collapsed": true
   },
   "outputs": [
    {
     "data": {
      "text/html": [
       "<div>\n",
       "<style scoped>\n",
       "    .dataframe tbody tr th:only-of-type {\n",
       "        vertical-align: middle;\n",
       "    }\n",
       "\n",
       "    .dataframe tbody tr th {\n",
       "        vertical-align: top;\n",
       "    }\n",
       "\n",
       "    .dataframe thead th {\n",
       "        text-align: right;\n",
       "    }\n",
       "</style>\n",
       "<table border=\"1\" class=\"dataframe\">\n",
       "  <thead>\n",
       "    <tr style=\"text-align: right;\">\n",
       "      <th></th>\n",
       "      <th>Uk_F</th>\n",
       "      <th>Uk_M</th>\n",
       "      <th>Uk_R</th>\n",
       "    </tr>\n",
       "  </thead>\n",
       "  <tbody>\n",
       "    <tr>\n",
       "      <th>architect</th>\n",
       "      <td>0.7</td>\n",
       "      <td>0.7</td>\n",
       "      <td>0.7</td>\n",
       "    </tr>\n",
       "    <tr>\n",
       "      <th>chef</th>\n",
       "      <td>0.6</td>\n",
       "      <td>0.4</td>\n",
       "      <td>0.4</td>\n",
       "    </tr>\n",
       "    <tr>\n",
       "      <th>consultant</th>\n",
       "      <td>0.6</td>\n",
       "      <td>0.6</td>\n",
       "      <td>0.6</td>\n",
       "    </tr>\n",
       "    <tr>\n",
       "      <th>dentist</th>\n",
       "      <td>0.6</td>\n",
       "      <td>0.5</td>\n",
       "      <td>0.5</td>\n",
       "    </tr>\n",
       "    <tr>\n",
       "      <th>designer</th>\n",
       "      <td>0.7</td>\n",
       "      <td>0.6</td>\n",
       "      <td>0.7</td>\n",
       "    </tr>\n",
       "  </tbody>\n",
       "</table>\n",
       "</div>"
      ],
      "text/plain": [
       "            Uk_F  Uk_M  Uk_R\n",
       "architect    0.7   0.7   0.7\n",
       "chef         0.6   0.4   0.4\n",
       "consultant   0.6   0.6   0.6\n",
       "dentist      0.6   0.5   0.5\n",
       "designer     0.7   0.6   0.7"
      ]
     },
     "execution_count": 36,
     "metadata": {},
     "output_type": "execute_result"
    }
   ],
   "source": [
    "df_split[0].head()"
   ]
  },
  {
   "cell_type": "code",
   "execution_count": 39,
   "metadata": {
    "collapsed": true
   },
   "outputs": [
    {
     "data": {
      "image/png": "[encoded data removed]",
      "text/plain": [
       "<Figure size 432x288 with 1 Axes>"
      ]
     },
     "metadata": {
      "needs_background": "light"
     },
     "output_type": "display_data"
    }
   ],
   "source": [
    "ax = df_split[0].plot.barh(rot=0)"
   ]
  },
  {
   "cell_type": "code",
   "execution_count": 40,
   "metadata": {
    "collapsed": true
   },
   "outputs": [
    {
     "data": {
      "image/png": "[encoded data removed]",
      "text/plain": [
       "<Figure size 432x288 with 1 Axes>"
      ]
     },
     "metadata": {
      "needs_background": "light"
     },
     "output_type": "display_data"
    }
   ],
   "source": [
    "ax = df_split[1].plot.barh(rot=0)"
   ]
  },
  {
   "cell_type": "code",
   "execution_count": 41,
   "metadata": {
    "collapsed": true
   },
   "outputs": [
    {
     "data": {
      "image/png": "[encoded data removed]",
      "text/plain": [
       "<Figure size 432x288 with 1 Axes>"
      ]
     },
     "metadata": {
      "needs_background": "light"
     },
     "output_type": "display_data"
    }
   ],
   "source": [
    "ax = df_split[2].plot.barh(rot=0)"
   ]
  },
  {
   "cell_type": "code",
   "execution_count": 83,
   "metadata": {
    "collapsed": true
   },
   "outputs": [],
   "source": [
    "%store -r df_u2\n",
    "%store -r f_queries_co\n",
    "%store -r intersection\n",
    "%store -r f_queries_co\n"
   ]
  },
  {
   "cell_type": "code",
   "execution_count": 84,
   "metadata": {
    "collapsed": true
   },
   "outputs": [],
   "source": [
    "def print_fairness_statistics_u2(country):\n",
    "    if country == 'Spain':\n",
    "        queries = f_queries_es\n",
    "    elif country == 'Colombia':\n",
    "        queries = f_queries_co \n",
    "    elif country == 'Mexico':\n",
    "        queries = f_queries_mx\n",
    "    else:\n",
    "        print(\"Wrong country\")\n",
    "        return\n",
    "    \n",
    "    print(\"Source: Top doctors \\nCountry: \",country)\n",
    "    min_size = get_min_size_elements(df_u2_sex_filtered, queries, source='top doctors', country=country, tag_name='speciality')\n",
    "    print(\"Ranking size: \",min_size)\n",
    "    print(\"Protected sex: female\\n\")\n",
    "    get_fairness_metrics(df_u2_sex_filtered, queries, 'top doctors', country, sex_discrimination, {'df':df_u1, 'protected_value':'female'}, min_size, tag_name='speciality')\n",
    "    \n",
    "    \n",
    "    print(\"Source: Top doctors \\nCountry: \",country)\n",
    "#    min_size = get_min_size_elements(df_u2_age_filtered, queries, source='top doctors', country=country, tag_name='speciality')\n",
    "    \n",
    "    if min_size > 0:\n",
    "        print(\"Ranking size: \",min_size)\n",
    "        print(\"Protected sex: old people\\n\")\n",
    "        get_fairness_metrics(df_u2_age_filtered, queries, 'top doctors', country, old_age_discrimination, {'df':df_u1}, min_size, tag_name='speciality')\n",
    "\n",
    "\n",
    "        print(\"Source: Top doctors \\nCountry: \",country)\n",
    "        min_size = get_min_size_elements(df_u2_age_filtered, queries, source='top doctors', country=country, tag_name='speciality')\n",
    "        print(\"Ranking size: \",min_size)\n",
    "        print(\"Protected sex: young people\\n\")\n",
    "        get_fairness_metrics(df_u2_age_filtered, queries, 'top doctors', country, young_age_discrimination, {'df':df_u1}, min_size, tag_name='speciality')\n",
    "\n",
    "       \n",
    "    print(\"Source: Top doctors \\nCountry: \",country)\n",
    "    min_size = get_min_size_elements(df_u2_nationality_filtered, queries, source='top doctors', country=country, tag_name='speciality')\n",
    "    print(\"Ranking size: \",min_size)\n",
    "    print(\"Protected group: foreigner people\\n\")\n",
    "    get_fairness_metrics(df_u2_nationality_filtered, queries, 'top doctors', country, nationality_discrimination, {'df':df_u1, 'protected_value':'foreigner'}, min_size, tag_name='speciality')\n",
    "\n",
    "    print(\"Source: Top doctors \\nCountry: \",country)\n",
    "    min_size = get_min_size_elements(df_u2_nationality_filtered, queries, source='top doctors', country=country, tag_name='speciality')\n",
    "    print(\"Ranking size: \",min_size)\n",
    "    print(\"Protected group: not foreigner people\\n\")\n",
    "    get_fairness_metrics(df_u2_nationality_filtered, queries, 'top doctors', country, nationality_discrimination, {'df':df_u1, 'protected_value':'not foreigner'}, min_size, tag_name='speciality')\n",
    "    "
   ]
  },
  {
   "cell_type": "code",
   "execution_count": 85,
   "metadata": {
    "collapsed": true
   },
   "outputs": [],
   "source": [
    "df_u2 = df_u2[df_u2['speciality'].isin(intersection)] \n",
    "\n",
    "df_u2_sex_filtered = df_u2[(df_u2['gender']!=None) & (df_u2['gender']!='unknown')]\n",
    "df_u2_age_filtered = df_u2[df_u2.age.notnull() & df_u2.age.dropna()]\n",
    "df_u2_nationality_filtered = df_u2[df_u2.Is_foreigner.notnull() & (df_u2['Is_foreigner']!='unknown') & (df_u2['Is_foreigner']!='tooshort')]"
   ]
  },
  {
   "cell_type": "code",
   "execution_count": 86,
   "metadata": {
    "collapsed": true
   },
   "outputs": [],
   "source": [
    "def print_fairness_statistics_u2(country):\n",
    "    if country == 'Spain':\n",
    "        queries = f_queries_es\n",
    "    elif country == 'Colombia':\n",
    "        queries = f_queries_co \n",
    "    elif country == 'Mexico':\n",
    "        queries = f_queries_mx\n",
    "    else:\n",
    "        print(\"Wrong country\")\n",
    "        return\n",
    "    \n",
    "    print(\"Source: Top doctors \\nCountry: \",country)\n",
    "    min_size = get_min_size_elements(df_u2_sex_filtered, queries, source='top doctors', country=country, tag_name='speciality')\n",
    "    print(\"Ranking size: \",min_size)\n",
    "    print(\"Protected sex: female\\n\")\n",
    "    get_fairness_metrics(df_u2_sex_filtered, queries, 'top doctors', country, sex_discrimination, {'df':df_u1, 'protected_value':'female'}, min_size, tag_name='speciality')\n",
    "    \n",
    "    \n",
    "    print(\"Source: Top doctors \\nCountry: \",country)\n",
    "    min_size = get_min_size_elements(df_u2_age_filtered, queries, source='top doctors', country=country, tag_name='speciality')\n",
    "    \n",
    "    if min_size > 0:\n",
    "        print(\"Ranking size: \",min_size)\n",
    "        print(\"Protected sex: old people\\n\")\n",
    "        get_fairness_metrics(df_u2_age_filtered, queries, 'top doctors', country, old_age_discrimination, {'df':df_u1}, min_size, tag_name='speciality')\n",
    "\n",
    "\n",
    "        print(\"Source: Top doctors \\nCountry: \",country)\n",
    "        min_size = get_min_size_elements(df_u2_age_filtered, queries, source='top doctors', country=country, tag_name='speciality')\n",
    "        print(\"Ranking size: \",min_size)\n",
    "        print(\"Protected sex: young people\\n\")\n",
    "        get_fairness_metrics(df_u2_age_filtered, queries, 'top doctors', country, young_age_discrimination, {'df':df_u1}, min_size, tag_name='speciality')\n",
    "\n",
    "       \n",
    "    print(\"Source: Top doctors \\nCountry: \",country)\n",
    "    min_size = get_min_size_elements(df_u2_nationality_filtered, queries, source='top doctors', country=country, tag_name='speciality')\n",
    "    print(\"Ranking size: \",min_size)\n",
    "    print(\"Protected group: foreigner people\\n\")\n",
    "    get_fairness_metrics(df_u2_nationality_filtered, queries, 'top doctors', country, nationality_discrimination, {'df':df_u1, 'protected_value':'foreigner'}, min_size, tag_name='speciality')\n",
    "\n",
    "    print(\"Source: Top doctors \\nCountry: \",country)\n",
    "    min_size = get_min_size_elements(df_u2_nationality_filtered, queries, source='top doctors', country=country, tag_name='speciality')\n",
    "    print(\"Ranking size: \",min_size)\n",
    "    print(\"Protected group: not foreigner people\\n\")\n",
    "    get_fairness_metrics(df_u2_nationality_filtered, queries, 'top doctors', country, nationality_discrimination, {'df':df_u1, 'protected_value':'not foreigner'}, min_size, tag_name='speciality')"
   ]
  },
  {
   "cell_type": "code",
   "execution_count": 87,
   "metadata": {
    "collapsed": true
   },
   "outputs": [],
   "source": [
    "def print_fairness_statistics_u2(country):\n",
    "    if country == 'Spain':\n",
    "        queries = f_queries_es\n",
    "    elif country == 'Colombia':\n",
    "        queries = f_queries_co \n",
    "    elif country == 'Mexico':\n",
    "        queries = f_queries_mx\n",
    "    else:\n",
    "        print(\"Wrong country\")\n",
    "        return\n",
    "    queries\n",
    "    print(\"Source: Top doctors \\nCountry: \",country)\n",
    "    min_size = get_min_size_elements(df_u2_sex_filtered, queries, source='top doctors', country=country, tag_name='speciality')\n",
    "    print(\"Ranking size: \",min_size)\n",
    "    print(\"Protected sex: female\\n\")\n",
    "    get_fairness_metrics(df_u2_sex_filtered, queries, 'top doctors', country, sex_discrimination, {'df':df_u1, 'protected_value':'female'}, min_size, tag_name='speciality')\n",
    "    "
   ]
  },
  {
   "cell_type": "code",
   "execution_count": 88,
   "metadata": {
    "collapsed": true
   },
   "outputs": [],
   "source": [
    "sys.stdout = open('fairness_colombia_u2.txt', 'w')\n",
    "print_fairness_statistics_u2(country='Colombia')"
   ]
  },
  {
   "cell_type": "code",
   "execution_count": 88,
   "metadata": {
    "collapsed": true
   },
   "outputs": [],
   "source": [
    "min_size = get_min_size_elements(df_u2_sex_filtered, f_queries_co, source='top doctors', country='Colombia', tag_name='speciality')\n"
   ]
  },
  {
   "cell_type": "code",
   "execution_count": 90,
   "metadata": {
    "collapsed": true
   },
   "outputs": [],
   "source": [
    "print(\"Ranking size: \",min_size)\n"
   ]
  },
  {
   "cell_type": "code",
   "execution_count": 75,
   "metadata": {
    "collapsed": true
   },
   "outputs": [
    {
     "data": {
      "text/html": [
       "<div>\n",
       "<style scoped>\n",
       "    .dataframe tbody tr th:only-of-type {\n",
       "        vertical-align: middle;\n",
       "    }\n",
       "\n",
       "    .dataframe tbody tr th {\n",
       "        vertical-align: top;\n",
       "    }\n",
       "\n",
       "    .dataframe thead th {\n",
       "        text-align: right;\n",
       "    }\n",
       "</style>\n",
       "<table border=\"1\" class=\"dataframe\">\n",
       "  <thead>\n",
       "    <tr style=\"text-align: right;\">\n",
       "      <th></th>\n",
       "      <th>source</th>\n",
       "      <th>country</th>\n",
       "      <th>speciality</th>\n",
       "      <th>#</th>\n",
       "      <th>gender</th>\n",
       "      <th>ethnicity</th>\n",
       "      <th>Is_foreigner</th>\n",
       "      <th>age</th>\n",
       "      <th>experience_level</th>\n",
       "      <th>was_awarded</th>\n",
       "      <th>has_photo</th>\n",
       "      <th>num_stars</th>\n",
       "      <th>num_reviews</th>\n",
       "    </tr>\n",
       "  </thead>\n",
       "  <tbody>\n",
       "    <tr>\n",
       "      <th>117</th>\n",
       "      <td>top doctors</td>\n",
       "      <td>Colombia</td>\n",
       "      <td>cirugia oral y maxilofacial</td>\n",
       "      <td>0</td>\n",
       "      <td>male</td>\n",
       "      <td>hispanic</td>\n",
       "      <td>False</td>\n",
       "      <td>NaN</td>\n",
       "      <td>NaN</td>\n",
       "      <td>False</td>\n",
       "      <td>True</td>\n",
       "      <td>0.0</td>\n",
       "      <td>0</td>\n",
       "    </tr>\n",
       "    <tr>\n",
       "      <th>118</th>\n",
       "      <td>top doctors</td>\n",
       "      <td>Colombia</td>\n",
       "      <td>cirugia oral y maxilofacial</td>\n",
       "      <td>1</td>\n",
       "      <td>male</td>\n",
       "      <td>hispanic</td>\n",
       "      <td>False</td>\n",
       "      <td>40.0</td>\n",
       "      <td>senior2-level</td>\n",
       "      <td>False</td>\n",
       "      <td>True</td>\n",
       "      <td>5.0</td>\n",
       "      <td>1</td>\n",
       "    </tr>\n",
       "    <tr>\n",
       "      <th>119</th>\n",
       "      <td>top doctors</td>\n",
       "      <td>Colombia</td>\n",
       "      <td>cirugia oral y maxilofacial</td>\n",
       "      <td>1</td>\n",
       "      <td>male</td>\n",
       "      <td>hispanic</td>\n",
       "      <td>False</td>\n",
       "      <td>NaN</td>\n",
       "      <td>senior2-level</td>\n",
       "      <td>False</td>\n",
       "      <td>True</td>\n",
       "      <td>5.0</td>\n",
       "      <td>1</td>\n",
       "    </tr>\n",
       "    <tr>\n",
       "      <th>120</th>\n",
       "      <td>top doctors</td>\n",
       "      <td>Colombia</td>\n",
       "      <td>cirugia oral y maxilofacial</td>\n",
       "      <td>2</td>\n",
       "      <td>male</td>\n",
       "      <td>hispanic</td>\n",
       "      <td>False</td>\n",
       "      <td>NaN</td>\n",
       "      <td>senior2-level</td>\n",
       "      <td>False</td>\n",
       "      <td>True</td>\n",
       "      <td>0.0</td>\n",
       "      <td>0</td>\n",
       "    </tr>\n",
       "    <tr>\n",
       "      <th>121</th>\n",
       "      <td>top doctors</td>\n",
       "      <td>Colombia</td>\n",
       "      <td>cirugia oral y maxilofacial</td>\n",
       "      <td>2</td>\n",
       "      <td>female</td>\n",
       "      <td>hispanic-english</td>\n",
       "      <td>False</td>\n",
       "      <td>NaN</td>\n",
       "      <td>NaN</td>\n",
       "      <td>False</td>\n",
       "      <td>True</td>\n",
       "      <td>0.0</td>\n",
       "      <td>0</td>\n",
       "    </tr>\n",
       "  </tbody>\n",
       "</table>\n",
       "</div>"
      ],
      "text/plain": [
       "          source   country                   speciality  #  gender  \\\n",
       "117  top doctors  Colombia  cirugia oral y maxilofacial  0    male   \n",
       "118  top doctors  Colombia  cirugia oral y maxilofacial  1    male   \n",
       "119  top doctors  Colombia  cirugia oral y maxilofacial  1    male   \n",
       "120  top doctors  Colombia  cirugia oral y maxilofacial  2    male   \n",
       "121  top doctors  Colombia  cirugia oral y maxilofacial  2  female   \n",
       "\n",
       "            ethnicity  Is_foreigner   age experience_level  was_awarded  \\\n",
       "117          hispanic         False   NaN              NaN        False   \n",
       "118          hispanic         False  40.0    senior2-level        False   \n",
       "119          hispanic         False   NaN    senior2-level        False   \n",
       "120          hispanic         False   NaN    senior2-level        False   \n",
       "121  hispanic-english         False   NaN              NaN        False   \n",
       "\n",
       "     has_photo  num_stars  num_reviews  \n",
       "117       True        0.0            0  \n",
       "118       True        5.0            1  \n",
       "119       True        5.0            1  \n",
       "120       True        0.0            0  \n",
       "121       True        0.0            0  "
      ]
     },
     "execution_count": 75,
     "metadata": {},
     "output_type": "execute_result"
    }
   ],
   "source": [
    "df_u2_sex_filtered.head()"
   ]
  },
  {
   "cell_type": "code",
   "execution_count": 76,
   "metadata": {
    "collapsed": true
   },
   "outputs": [
    {
     "data": {
      "text/plain": [
       "['angiologia y cirugia vascular',\n",
       " 'cardiologia adultos',\n",
       " 'cirugia general',\n",
       " 'cirugia oral y maxilofacial',\n",
       " 'cirugia plastica estetica y reparadora',\n",
       " 'dermatologia',\n",
       " 'endocrinologia',\n",
       " 'gastroenterologia especialidad',\n",
       " 'ginecologia y obstetricia',\n",
       " 'medicina estetica',\n",
       " 'neurocirugia',\n",
       " 'odontologia y estomatologia',\n",
       " 'oftalmologia',\n",
       " 'otorrinolaringologia',\n",
       " 'pediatria',\n",
       " 'psicologia',\n",
       " 'psiquiatria',\n",
       " 'reumatologia',\n",
       " 'traumatologia y ortopedia',\n",
       " 'urologia']"
      ]
     },
     "execution_count": 76,
     "metadata": {},
     "output_type": "execute_result"
    }
   ],
   "source": [
    "f_queries_co"
   ]
  },
  {
   "cell_type": "code",
   "execution_count": 92,
   "metadata": {
    "collapsed": true
   },
   "outputs": [],
   "source": [
    "get_fairness_metrics(df_u2_sex_filtered, f_queries_co, 'top doctors', 'Colombia', sex_discrimination, {'df':df_u1, 'protected_value':'female'}, min_size, tag_name='speciality')\n"
   ]
  },
  {
   "cell_type": "code",
   "execution_count": 48,
   "metadata": {
    "collapsed": true
   },
   "outputs": [],
   "source": [
    "def experience_to_number(argument): \n",
    "    switcher = { \n",
    "        \"senior2-level\":85, \n",
    "        'senior1-level':80, \n",
    "        'mid-level':75,\n",
    "        'entry-level':70,\n",
    "    } \n",
    "  \n",
    "    # get() method of dictionary data type returns  \n",
    "    # value of passed argument if it is present  \n",
    "    # in dictionary otherwise second argument will \n",
    "    # be assigned as default value of passed argument \n",
    "    return switcher.get(argument, 60) "
   ]
  },
  {
   "cell_type": "code",
   "execution_count": 49,
   "metadata": {
    "collapsed": true
   },
   "outputs": [],
   "source": [
    "col_names =  ['query', 'famel_med_bia', 'male_med_bia']\n",
    "my_df  = pd.DataFrame(columns = col_names)"
   ]
  },
  {
   "cell_type": "code",
   "execution_count": 52,
   "metadata": {
    "collapsed": true
   },
   "outputs": [
    {
     "name": "stdout",
     "output_type": "stream",
     "text": [
      "architect\n",
      "count_famel 9\n",
      "count_male 6\n",
      "med_male 80.83333333333333\n",
      "med_famel 80.55555555555556\n",
      "chef\n",
      "count_famel 4\n",
      "count_male 11\n",
      "med_male 80.45454545454545\n",
      "med_famel 85.0\n",
      "consultant\n",
      "count_famel 7\n",
      "count_male 8\n",
      "med_male 81.875\n",
      "med_famel 77.85714285714286\n",
      "dentist\n",
      "count_famel 8\n",
      "count_male 7\n",
      "med_male 80.71428571428571\n",
      "med_famel 80.625\n",
      "designer\n",
      "count_famel 9\n",
      "count_male 6\n",
      "med_male 82.5\n",
      "med_famel 77.77777777777777\n",
      "developer\n",
      "count_famel 6\n",
      "count_male 9\n",
      "med_male 81.11111111111111\n",
      "med_famel 79.16666666666667\n",
      "doctor\n",
      "count_famel 7\n",
      "count_male 8\n",
      "med_male 78.125\n",
      "med_famel 81.42857142857143\n",
      "economist\n",
      "count_famel 7\n",
      "count_male 8\n",
      "med_male 82.5\n",
      "med_famel 82.14285714285714\n",
      "engineer\n",
      "count_famel 6\n",
      "count_male 9\n",
      "med_male 79.44444444444444\n",
      "med_famel 79.16666666666667\n",
      "firefighter\n",
      "count_famel 4\n",
      "count_male 11\n",
      "med_male 80.9090909090909\n",
      "med_famel 85.0\n",
      "gardener\n",
      "count_famel 2\n",
      "count_male 13\n",
      "med_male 77.6923076923077\n",
      "med_famel 82.5\n",
      "hairdresser\n",
      "count_famel 11\n",
      "count_male 4\n",
      "med_male 82.5\n",
      "med_famel 82.72727272727273\n",
      "instructor\n",
      "count_famel 8\n",
      "count_male 7\n",
      "med_male 81.42857142857143\n",
      "med_famel 78.75\n",
      "judge\n",
      "count_famel 5\n",
      "count_male 10\n",
      "med_male 84.0\n",
      "med_famel 83.0\n",
      "mechanic\n",
      "count_famel 1\n",
      "count_male 14\n",
      "med_male 81.42857142857143\n",
      "med_famel 70.0\n",
      "nurse\n",
      "count_famel 12\n",
      "count_male 3\n",
      "med_male 85.0\n",
      "med_famel 80.41666666666667\n",
      "pharmacist\n",
      "count_famel 9\n",
      "count_male 6\n",
      "med_male 78.33333333333333\n",
      "med_famel 76.66666666666667\n",
      "photographer\n",
      "count_famel 7\n",
      "count_male 8\n",
      "med_male 82.5\n",
      "med_famel 81.42857142857143\n",
      "physiotherapist\n",
      "count_famel 9\n",
      "count_male 6\n",
      "med_male 77.5\n",
      "med_famel 82.22222222222223\n",
      "pilot\n",
      "count_famel 0\n",
      "count_male 15\n",
      "med_male 81.66666666666667\n",
      "med_famel 82.22222222222223\n",
      "plumber\n",
      "count_famel 2\n",
      "count_male 13\n",
      "med_male 79.61538461538461\n",
      "med_famel 77.5\n",
      "postman\n",
      "count_famel 2\n",
      "count_male 13\n",
      "med_male 78.07692307692308\n",
      "med_famel 77.5\n",
      "psychiatrist\n",
      "count_famel 8\n",
      "count_male 7\n",
      "med_male 80.71428571428571\n",
      "med_famel 81.25\n",
      "psychologist\n",
      "count_famel 15\n",
      "count_male 0\n",
      "med_male 80.71428571428571\n",
      "med_famel 78.66666666666667\n",
      "radiographer\n",
      "count_famel 10\n",
      "count_male 5\n",
      "med_male 81.0\n",
      "med_famel 80.5\n",
      "recruiter\n",
      "count_famel 13\n",
      "count_male 2\n",
      "med_male 82.5\n",
      "med_famel 82.6923076923077\n",
      "reporter\n",
      "count_famel 8\n",
      "count_male 7\n",
      "med_male 80.0\n",
      "med_famel 82.5\n",
      "salesman\n",
      "count_famel 1\n",
      "count_male 14\n",
      "med_male 77.14285714285714\n",
      "med_famel 70.0\n",
      "scientist\n",
      "count_famel 5\n",
      "count_male 10\n",
      "med_male 80.5\n",
      "med_famel 83.0\n",
      "secretary\n",
      "count_famel 8\n",
      "count_male 7\n",
      "med_male 81.42857142857143\n",
      "med_famel 78.125\n",
      "surveyor\n",
      "count_famel 10\n",
      "count_male 5\n",
      "med_male 82.0\n",
      "med_famel 80.0\n",
      "teacher\n",
      "count_famel 8\n",
      "count_male 7\n",
      "med_male 83.57142857142857\n",
      "med_famel 81.25\n",
      "veterinarian\n",
      "count_famel 12\n",
      "count_male 3\n",
      "med_male 78.33333333333333\n",
      "med_famel 78.75\n",
      "writer\n",
      "count_famel 8\n",
      "count_male 7\n",
      "med_male 82.85714285714286\n",
      "med_famel 77.5\n"
     ]
    }
   ],
   "source": [
    "med_famel=0\n",
    "med_male=0\n",
    "\n",
    "famel_num_l=[]\n",
    "male_num_l=[]\n",
    "male_exp_l=[]\n",
    "famel_exp_l=[]\n",
    "for q in sorted(queries_uk_l):\n",
    "    count_famel=0\n",
    "    count_male=0\n",
    "    famel_exp=0\n",
    "    male_exp=0\n",
    "    quary=q \n",
    "    df_15 = df_u1_sex_filtered[(df_u1_sex_filtered['query'] == q) & (df_u1_sex_filtered['source'] == 'linkedin')].sort_values('#')[:15]\n",
    "    for index, row in df_15.iterrows():\n",
    "        if (row['gender'] == 'female'):\n",
    "            count_famel=count_famel+1\n",
    "            \n",
    "            famel_exp=famel_exp+experience_to_number(row['experience_level'])\n",
    "        elif (row['gender'] == 'male'):\n",
    "            count_male=count_male+1\n",
    "            male_exp=male_exp+experience_to_number(row['experience_level'])\n",
    "        else:\n",
    "            continue\n",
    "    print(q)\n",
    "    if(count_famel!=0):\n",
    "        med_famel=famel_exp/count_famel\n",
    "    if(count_male!=0):\n",
    "        med_male=male_exp/count_male\n",
    "    print('count_famel',count_famel) \n",
    "    print('count_male',count_male)    \n",
    "    print('med_male',med_male)    \n",
    "    print('med_famel',med_famel)    \n",
    "    male_exp_l.append(med_male)\n",
    "    famel_exp_l.append(med_famel)\n",
    "    new_row ={'query':q, 'famel_med_bia':med_famel, 'male_med_bia':med_male}\n",
    "            #append row to the dataframe\n",
    "    my_df.append(new_row,ignore_index=True)\n",
    "            \n",
    "                    \n",
    "        \n",
    "            \n"
   ]
  },
  {
   "cell_type": "code",
   "execution_count": 55,
   "metadata": {
    "collapsed": true
   },
   "outputs": [
    {
     "data": {
      "text/plain": [
       "[80.55555555555556,\n",
       " 85.0,\n",
       " 77.85714285714286,\n",
       " 80.625,\n",
       " 77.77777777777777,\n",
       " 79.16666666666667,\n",
       " 81.42857142857143,\n",
       " 82.14285714285714,\n",
       " 79.16666666666667,\n",
       " 85.0,\n",
       " 82.5,\n",
       " 82.72727272727273,\n",
       " 78.75,\n",
       " 83.0,\n",
       " 70.0,\n",
       " 80.41666666666667,\n",
       " 76.66666666666667,\n",
       " 81.42857142857143,\n",
       " 82.22222222222223,\n",
       " 82.22222222222223,\n",
       " 77.5,\n",
       " 77.5,\n",
       " 81.25,\n",
       " 78.66666666666667,\n",
       " 80.5,\n",
       " 82.6923076923077,\n",
       " 82.5,\n",
       " 70.0,\n",
       " 83.0,\n",
       " 78.125,\n",
       " 80.0,\n",
       " 81.25,\n",
       " 78.75,\n",
       " 77.5]"
      ]
     },
     "execution_count": 55,
     "metadata": {},
     "output_type": "execute_result"
    }
   ],
   "source": [
    "famel_exp_l"
   ]
  },
  {
   "cell_type": "code",
   "execution_count": 80,
   "metadata": {},
   "outputs": [
    {
     "data": {
      "text/plain": [
       "<bound method NDFrame.head of Empty DataFrame\n",
       "Columns: [query, famel_med_bia, male_med_bia]\n",
       "Index: []>"
      ]
     },
     "execution_count": 80,
     "metadata": {},
     "output_type": "execute_result"
    }
   ],
   "source": [
    "my_df.head\n"
   ]
  },
  {
   "cell_type": "code",
   "execution_count": 68,
   "metadata": {
    "collapsed": true
   },
   "outputs": [],
   "source": [
    "exp_medList = pd.DataFrame(\n",
    "    {'M_AVR': male_exp_l,\n",
    "     'F_AVR': famel_exp_l}, index=queries_uk_l)\n"
   ]
  },
  {
   "cell_type": "code",
   "execution_count": 69,
   "metadata": {
    "collapsed": true
   },
   "outputs": [],
   "source": [
    "exp_medList_split = np.array_split(exp_medList, 3)\n"
   ]
  },
  {
   "cell_type": "code",
   "execution_count": 70,
   "metadata": {
    "collapsed": true
   },
   "outputs": [
    {
     "data": {
      "image/png": "[encoded data removed]",
      "text/plain": [
       "<Figure size 432x288 with 1 Axes>"
      ]
     },
     "metadata": {
      "needs_background": "light"
     },
     "output_type": "display_data"
    }
   ],
   "source": [
    "exp_medList_split = np.array_split(exp_medList, 3)\n",
    "\n",
    "ax = exp_medList_split[0].plot.barh(rot=0)"
   ]
  },
  {
   "cell_type": "code",
   "execution_count": 71,
   "metadata": {
    "collapsed": true
   },
   "outputs": [
    {
     "data": {
      "image/png": "[encoded data removed]",
      "text/plain": [
       "<Figure size 432x288 with 1 Axes>"
      ]
     },
     "metadata": {
      "needs_background": "light"
     },
     "output_type": "display_data"
    }
   ],
   "source": [
    "ax = exp_medList_split[1].plot.barh(rot=0)"
   ]
  },
  {
   "cell_type": "code",
   "execution_count": 72,
   "metadata": {
    "collapsed": true
   },
   "outputs": [
    {
     "data": {
      "image/png": "[encoded data removed]",
      "text/plain": [
       "<Figure size 432x288 with 1 Axes>"
      ]
     },
     "metadata": {
      "needs_background": "light"
     },
     "output_type": "display_data"
    }
   ],
   "source": [
    "ax = exp_medList_split[2].plot.barh(rot=0)"
   ]
  },
  {
   "cell_type": "code",
   "execution_count": 67,
   "metadata": {
    "collapsed": true
   },
   "outputs": [],
   "source": [
    "export_csv = exp_medList.to_csv (r' difference in avg relevance.csv', index = None, header=True) #Don't forget to add '.csv' at the end of the path\n"
   ]
  },
  {
   "cell_type": "code",
   "execution_count": null,
   "metadata": {
    "collapsed": true
   },
   "outputs": [],
   "source": []
  },
  {
   "cell_type": "code",
   "execution_count": 21,
   "metadata": {
    "collapsed": true
   },
   "outputs": [],
   "source": [
    "def get_bias(i): \n",
    "    log2 = math.log2(i+1)\n",
    "    return  1/log2"
   ]
  },
  {
   "cell_type": "code",
   "execution_count": 22,
   "metadata": {
    "collapsed": true
   },
   "outputs": [
    {
     "data": {
      "text/plain": [
       "0.6309297535714575"
      ]
     },
     "execution_count": 22,
     "metadata": {},
     "output_type": "execute_result"
    }
   ],
   "source": [
    "get_bias(2)"
   ]
  },
  {
   "cell_type": "code",
   "execution_count": 86,
   "metadata": {
    "collapsed": true
   },
   "outputs": [
    {
     "data": {
      "text/plain": [
       "0.0"
      ]
     },
     "execution_count": 86,
     "metadata": {},
     "output_type": "execute_result"
    }
   ],
   "source": [
    "math.log2(1)"
   ]
  },
  {
   "cell_type": "code",
   "execution_count": 91,
   "metadata": {
    "collapsed": true
   },
   "outputs": [],
   "source": [
    "log2 = math.log(3, 2.0)\n"
   ]
  },
  {
   "cell_type": "code",
   "execution_count": 92,
   "metadata": {
    "collapsed": true
   },
   "outputs": [
    {
     "data": {
      "text/plain": [
       "1.5849625007211563"
      ]
     },
     "execution_count": 92,
     "metadata": {},
     "output_type": "execute_result"
    }
   ],
   "source": [
    "log2"
   ]
  },
  {
   "cell_type": "code",
   "execution_count": 73,
   "metadata": {},
   "outputs": [
    {
     "name": "stdout",
     "output_type": "stream",
     "text": [
      "architect\n",
      "famel_bais 0.41461721964380127\n",
      "male_bais 0.3549655035365989\n",
      "chef\n",
      "famel_bais 0.3913128381256005\n",
      "male_bais 0.39055424050103654\n",
      "consultant\n",
      "famel_bais 0.35936337809316826\n",
      "male_bais 0.4182255439202034\n",
      "dentist\n",
      "famel_bais 0.30651899861534665\n",
      "male_bais 0.4870280012987188\n",
      "designer\n",
      "famel_bais 0.4525859850927137\n",
      "male_bais 0.2980123553632302\n",
      "developer\n",
      "famel_bais 0.36952766840207474\n",
      "male_bais 0.40490910973348404\n",
      "doctor\n",
      "famel_bais 0.3848039004892874\n",
      "male_bais 0.3959650868235991\n",
      "economist\n",
      "famel_bais 0.3511676073733407\n",
      "male_bais 0.4253968433000525\n",
      "engineer\n",
      "famel_bais 0.28200595252703525\n",
      "male_bais 0.46325692031684373\n",
      "firefighter\n",
      "famel_bais 0.5168823413269836\n",
      "male_bais 0.34489260297326085\n",
      "gardener\n",
      "famel_bais 0.29166666666666663\n",
      "male_bais 0.40600112805234395\n",
      "hairdresser\n",
      "famel_bais 0.4257925372100217\n",
      "male_bais 0.2944075221758916\n",
      "instructor\n",
      "famel_bais 0.43775400121583274\n",
      "male_bais 0.3370451411838774\n",
      "judge\n",
      "famel_bais 0.46575260511112243\n",
      "male_bais 0.35325849724581915\n",
      "mechanic\n",
      "famel_bais 0.2890648263178879\n",
      "male_bais 0.3980202265497083\n",
      "nurse\n",
      "famel_bais 0.41553518199934564\n",
      "male_bais 0.2916419380072189\n",
      "pharmacist\n",
      "famel_bais 0.356404132759082\n",
      "male_bais 0.4422851338636777\n",
      "photographer\n",
      "famel_bais 0.3817691491758048\n",
      "male_bais 0.3986204942228964\n",
      "physiotherapist\n",
      "famel_bais 0.43198665099591516\n",
      "male_bais 0.32891135650842807\n",
      "pilot\n",
      "famel_bais 0.0\n",
      "male_bais 0.3907565332009203\n",
      "plumber\n",
      "famel_bais 0.28571145079777216\n",
      "male_bais 0.40691731510909696\n",
      "postman\n",
      "famel_bais 0.28998647065755556\n",
      "male_bais 0.40625961974605335\n",
      "psychiatrist\n",
      "famel_bais 0.32414608150178215\n",
      "male_bais 0.4668827637142211\n",
      "psychologist\n",
      "famel_bais 0.3907565332009203\n",
      "male_bais 0.0\n",
      "radiographer\n",
      "famel_bais 0.3793559338088346\n",
      "male_bais 0.41355773198509177\n",
      "recruiter\n",
      "famel_bais 0.4069292190709618\n",
      "male_bais 0.28563407504565047\n",
      "reporter\n",
      "famel_bais 0.4054159023128565\n",
      "male_bais 0.37400296850156456\n",
      "salesman\n",
      "famel_bais 0.38685280723454163\n",
      "male_bais 0.3910353707699473\n",
      "scientist\n",
      "famel_bais 0.4839773435618394\n",
      "male_bais 0.3441461280204607\n",
      "secretary\n",
      "famel_bais 0.4512649315157329\n",
      "male_bais 0.32160407798399177\n",
      "surveyor\n",
      "famel_bais 0.4084173836972133\n",
      "male_bais 0.35543483220833433\n",
      "teacher\n",
      "famel_bais 0.364078698064611\n",
      "male_bais 0.42124548764241665\n",
      "veterinarian\n",
      "famel_bais 0.34789278459421635\n",
      "male_bais 0.5622115276277362\n",
      "writer\n",
      "famel_bais 0.424503860398361\n",
      "male_bais 0.3521881592609882\n"
     ]
    }
   ],
   "source": [
    "-for q in sorted(queries_uk_l):  \n",
    "    famel_num_l=[]\n",
    "    male_num_l=[]\n",
    "    male_bia_l=[]\n",
    "    famel_bia_l=[]\n",
    "    count=0\n",
    "    med_famel=0.0\n",
    "    med_male=0.0\n",
    "    count_famel=0\n",
    "    count_male=0\n",
    "    famel_bais=0\n",
    "    male_bais=0\n",
    "    quary=q \n",
    "    df_15 = df_u1_sex_filtered[(df_u1_sex_filtered['query'] == q) & (df_u1_sex_filtered['source'] == 'linkedin')].sort_values('#')[:15]\n",
    "    for index, row in df_15.iterrows():\n",
    "        \n",
    "        if (row['gender'] == 'female'):\n",
    "            count=count+1\n",
    "            famel_bais=famel_bais+get_bias(count)\n",
    "            count_famel=count_famel+1\n",
    "            #print ('count',count)\n",
    "            #print ('famel_bais',famel_bais)\n",
    "            \n",
    "        elif (row['gender'] == 'male'):\n",
    "            count=count+1\n",
    "            male_bais=male_bais+get_bias(count)\n",
    "            count_male=count_male+1\n",
    "\n",
    "            #print ('count',count)\n",
    "            #print ('male_bais',male_bais)\n",
    "            \n",
    "        else:\n",
    "            continue\n",
    "    print(q)\n",
    "    if(count_famel!=0):\n",
    "        med_famel=famel_bais/count_famel\n",
    "    if(count_male!=0):\n",
    "        med_male=male_bais/count_male\n",
    "#    print('count_famel',count_famel) \n",
    "#    print('count_male',count_male)    \n",
    "    print('famel_bais',med_famel)    \n",
    "    print('male_bais',med_male)    \n",
    "    male_bia_l.append(med_male)\n",
    "    famel_bia_l.append(med_famel)\n",
    "    #new_row ={'query':q, 'famel_num':count_famel, 'male_num':count_male, 'famel_exp':famel_exp, 'male_exp':male_exp}\n",
    "            #append row to the dataframe\n",
    "    #my_df.append(new_row,ignore_index=True)\n",
    "            "
   ]
  },
  {
   "cell_type": "code",
   "execution_count": 83,
   "metadata": {
    "collapsed": true
   },
   "outputs": [],
   "source": [
    "exp_medList = pd.DataFrame(\n",
    "    {'M_AVE': male_bia_l,\n",
    "     'F_AVE': famel_bia_l}, index=queries_uk_l)\n"
   ]
  },
  {
   "cell_type": "code",
   "execution_count": 84,
   "metadata": {},
   "outputs": [
    {
     "data": {
      "image/png": "[encoded data removed]",
      "text/plain": [
       "<Figure size 432x288 with 1 Axes>"
      ]
     },
     "metadata": {
      "needs_background": "light"
     },
     "output_type": "display_data"
    }
   ],
   "source": [
    "exp_medList_split = np.array_split(exp_medList, 3)\n",
    "\n",
    "ax = exp_medList_split[0].plot.barh(rot=0)"
   ]
  },
  {
   "cell_type": "code",
   "execution_count": 85,
   "metadata": {},
   "outputs": [
    {
     "data": {
      "image/png": "[encoded data removed]",
      "text/plain": [
       "<Figure size 432x288 with 1 Axes>"
      ]
     },
     "metadata": {
      "needs_background": "light"
     },
     "output_type": "display_data"
    }
   ],
   "source": [
    "ax = exp_medList_split[1].plot.barh(rot=0)"
   ]
  },
  {
   "cell_type": "code",
   "execution_count": 77,
   "metadata": {},
   "outputs": [
    {
     "data": {
      "image/png": "[encoded data removed]",
      "text/plain": [
       "<Figure size 432x288 with 1 Axes>"
      ]
     },
     "metadata": {
      "needs_background": "light"
     },
     "output_type": "display_data"
    }
   ],
   "source": [
    "ax = exp_medList_split[2].plot.barh(rot=0)"
   ]
  },
  {
   "cell_type": "code",
   "execution_count": 82,
   "metadata": {
    "collapsed": true
   },
   "outputs": [],
   "source": [
    "export_csv = exp_medList.to_csv (r' difference in avg exposure.csv', header=True) #Don't forget to add '.csv' at the end of the path\n"
   ]
  },
  {
   "cell_type": "code",
   "execution_count": null,
   "metadata": {
    "collapsed": true
   },
   "outputs": [],
   "source": []
  }
 ],
 "metadata": {
  "kernelspec": {
   "display_name": "Python 3",
   "language": "python",
   "name": "python3"
  },
  "language_info": {
   "codemirror_mode": {
    "name": "ipython",
    "version": 3
   },
   "file_extension": ".py",
   "mimetype": "text/x-python",
   "name": "python",
   "nbconvert_exporter": "python",
   "pygments_lexer": "ipython3",
   "version": "3.6.8"
  }
 },
 "nbformat": 4,
 "nbformat_minor": 2
}
